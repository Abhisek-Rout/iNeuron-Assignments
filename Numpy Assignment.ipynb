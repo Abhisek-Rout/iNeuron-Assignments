{
 "cells": [
  {
   "cell_type": "code",
   "execution_count": 1,
   "metadata": {},
   "outputs": [],
   "source": [
    "import numpy as np\n",
    "import array as arr"
   ]
  },
  {
   "cell_type": "markdown",
   "metadata": {},
   "source": [
    "# Question 1.1 sol:"
   ]
  },
  {
   "cell_type": "code",
   "execution_count": 3,
   "metadata": {},
   "outputs": [],
   "source": [
    "# Creating my own vander matrix\n",
    "# Column stack stacks the arrays after taking the transpose of the 1-D array\n",
    "\n",
    "def myvander(arr,N,increasing):\n",
    "    if increasing == False:\n",
    "        output = np.column_stack([arr**(N-1-i) for i in range(N)])\n",
    "    if increasing == True:\n",
    "        output = np.column_stack([arr**(i) for i in range(N)])\n",
    "    print(output)"
   ]
  },
  {
   "cell_type": "code",
   "execution_count": 4,
   "metadata": {},
   "outputs": [
    {
     "name": "stdout",
     "output_type": "stream",
     "text": [
      "[[25  5  1]\n",
      " [16  4  1]\n",
      " [ 4  2  1]\n",
      " [ 1  1  1]]\n"
     ]
    }
   ],
   "source": [
    "myvander(np.array([5,4,2,1]),3,False)"
   ]
  },
  {
   "cell_type": "code",
   "execution_count": 5,
   "metadata": {},
   "outputs": [
    {
     "name": "stdout",
     "output_type": "stream",
     "text": [
      "[[ 1  5 25]\n",
      " [ 1  4 16]\n",
      " [ 1  2  4]\n",
      " [ 1  1  1]]\n"
     ]
    }
   ],
   "source": [
    "myvander(np.array([5,4,2,1]),3,True)"
   ]
  },
  {
   "cell_type": "markdown",
   "metadata": {},
   "source": [
    "# Question 1.2 sol:"
   ]
  },
  {
   "cell_type": "code",
   "execution_count": 25,
   "metadata": {},
   "outputs": [],
   "source": [
    "# Moving window question\n",
    "# n = number of elements to be given as input\n",
    "\n",
    "my_list = []\n",
    "def my_window(n):\n",
    "    for i in range(n):\n",
    "        num = float(input(f\"Enter the element number {i+1}: \"))\n",
    "        my_list.append(num)\n",
    "        \n",
    "    my_arr = arr.array('f',my_list)\n",
    "    print(my_arr)\n",
    "    \n",
    "    #Size of window is taken as input\n",
    "    window = int(input(\"Enter the window size: \"))\n",
    "    \n",
    "    for i in range(n-window+1):\n",
    "        sum = 0\n",
    "        for j in range(i,i+window):\n",
    "            sum += my_arr[j]\n",
    "        avg = sum/window\n",
    "        print(f\"y{i+1} = {avg}\")"
   ]
  },
  {
   "cell_type": "code",
   "execution_count": 26,
   "metadata": {},
   "outputs": [
    {
     "name": "stdout",
     "output_type": "stream",
     "text": [
      "Enter the element number 1: 10\n",
      "Enter the element number 2: 20\n",
      "Enter the element number 3: 30\n",
      "Enter the element number 4: 40\n",
      "Enter the element number 5: 50\n",
      "Enter the element number 6: 60\n",
      "Enter the element number 7: 70\n",
      "Enter the element number 8: 80\n",
      "Enter the element number 9: 90\n",
      "Enter the element number 10: 100\n",
      "array('f', [10.0, 20.0, 30.0, 40.0, 50.0, 60.0, 70.0, 80.0, 90.0, 100.0])\n",
      "Enter the window size: 4\n",
      "y1 = 25.0\n",
      "y2 = 35.0\n",
      "y3 = 45.0\n",
      "y4 = 55.0\n",
      "y5 = 65.0\n",
      "y6 = 75.0\n",
      "y7 = 85.0\n"
     ]
    }
   ],
   "source": [
    "my_window(10)"
   ]
  },
  {
   "cell_type": "code",
   "execution_count": 27,
   "metadata": {},
   "outputs": [
    {
     "name": "stdout",
     "output_type": "stream",
     "text": [
      "Enter the element number 1: 3\n",
      "Enter the element number 2: 5\n",
      "Enter the element number 3: 7\n",
      "Enter the element number 4: 2\n",
      "Enter the element number 5: 8\n",
      "Enter the element number 6: 10\n",
      "Enter the element number 7: 11\n",
      "Enter the element number 8: 65\n",
      "Enter the element number 9: 72\n",
      "Enter the element number 10: 81\n",
      "Enter the element number 11: 99\n",
      "Enter the element number 12: 100\n",
      "Enter the element number 13: 150\n",
      "array('f', [10.0, 20.0, 30.0, 40.0, 50.0, 60.0, 70.0, 80.0, 90.0, 100.0, 3.0, 5.0, 7.0, 2.0, 8.0, 10.0, 11.0, 65.0, 72.0, 81.0, 99.0, 100.0, 150.0])\n",
      "Enter the window size: 3\n",
      "y1 = 20.0\n",
      "y2 = 30.0\n",
      "y3 = 40.0\n",
      "y4 = 50.0\n",
      "y5 = 60.0\n",
      "y6 = 70.0\n",
      "y7 = 80.0\n",
      "y8 = 90.0\n",
      "y9 = 64.33333333333333\n",
      "y10 = 36.0\n",
      "y11 = 5.0\n"
     ]
    }
   ],
   "source": [
    "my_window(13)"
   ]
  }
 ],
 "metadata": {
  "kernelspec": {
   "display_name": "Python 3",
   "language": "python",
   "name": "python3"
  },
  "language_info": {
   "codemirror_mode": {
    "name": "ipython",
    "version": 3
   },
   "file_extension": ".py",
   "mimetype": "text/x-python",
   "name": "python",
   "nbconvert_exporter": "python",
   "pygments_lexer": "ipython3",
   "version": "3.8.5"
  }
 },
 "nbformat": 4,
 "nbformat_minor": 4
}
