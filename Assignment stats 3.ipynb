{
 "cells": [
  {
   "cell_type": "markdown",
   "metadata": {},
   "source": [
    "# Problem 1:"
   ]
  },
  {
   "cell_type": "markdown",
   "metadata": {},
   "source": [
    "Blood glucose levels for obese patients have a mean of 100 with a standard deviation of\n",
    "15. A researcher thinks that a diet high in raw cornstarch will have a positive effect on\n",
    "blood glucose levels. A sample of 36 patients who have tried the raw cornstarch diet\n",
    "have a mean glucose level of 108. Test the hypothesis that the raw cornstarch had an\n",
    "effect or not."
   ]
  },
  {
   "cell_type": "code",
   "execution_count": 1,
   "metadata": {},
   "outputs": [],
   "source": [
    "import scipy.stats\n",
    "import math"
   ]
  },
  {
   "cell_type": "markdown",
   "metadata": {},
   "source": [
    "##### Hypothesis\n",
    "μ - Mean flucose level of obese patients.  \n",
    "H0 : μ = 100  \n",
    "H1 : μ != 100  "
   ]
  },
  {
   "cell_type": "code",
   "execution_count": 2,
   "metadata": {},
   "outputs": [
    {
     "name": "stdout",
     "output_type": "stream",
     "text": [
      "The calculated value of z is 3.2.\n",
      "The value of z should lie between -1.959963984540054 and 1.959963984540054 in order to get accept null hypothesis.\n"
     ]
    }
   ],
   "source": [
    "#In the population\n",
    "mean = 100\n",
    "std_dev = 15\n",
    "\n",
    "#In sample\n",
    "sample_size = 36\n",
    "sample_mean = 108\n",
    "\n",
    "standard_error = std_dev/math.sqrt(sample_size)\n",
    "\n",
    "# z_score for given sample mean\n",
    "z_calculated = (sample_mean - mean)/standard_error\n",
    "\n",
    "# Considering 5% level of significance\n",
    "p = 0.05\n",
    "z_critical = scipy.stats.norm.ppf(1-p/2)\n",
    "\n",
    "print(f\"The calculated value of z is {z_calculated}.\")\n",
    "print(f\"The value of z should lie between {-z_critical} and {z_critical} in order to get accept null hypothesis.\")"
   ]
  },
  {
   "cell_type": "markdown",
   "metadata": {},
   "source": [
    "##### Conclusion\n",
    "The calculated z value (i.e 3.2) is does not lie between -1.9599 and 1.9599.  \n",
    "Hence the null hypothesis is rejected.  \n",
    "We conclude that at 5% level of significance a diet high in raw cornstarch will have an effect on blood glucose levels."
   ]
  },
  {
   "cell_type": "markdown",
   "metadata": {},
   "source": [
    "# Problem 2:"
   ]
  },
  {
   "cell_type": "markdown",
   "metadata": {},
   "source": [
    "In one state, 52% of the voters are Republicans, and 48% are Democrats. In a second\n",
    "state, 47% of the voters are Republicans, and 53% are Democrats. Suppose a simple\n",
    "random sample of 100 voters are surveyed from each state.\n",
    "What is the probability that the survey will show a greater percentage of Republican\n",
    "voters in the second state than in the first state?"
   ]
  },
  {
   "cell_type": "code",
   "execution_count": 3,
   "metadata": {},
   "outputs": [
    {
     "name": "stdout",
     "output_type": "stream",
     "text": [
      "The z score for which greater percentage of Republican voters are there in the second state than first state is -0.7080278164104213.\n",
      "The probability such that Republican voters in the second state is more than first state is 0.31049414712969037.\n"
     ]
    }
   ],
   "source": [
    "#Sample size\n",
    "sample_size = 100\n",
    "\n",
    "# In State 1\n",
    "p1 = 0.52    # Republicans proportions in state 1\n",
    "\n",
    "# In state 2\n",
    "p2 = 0.47    # Republicans proportions in state 2\n",
    "\n",
    "# Mean of difference in sample proportion\n",
    "mean = p1 - p2\n",
    "\n",
    "# Calculation of standard deviation\n",
    "std_dev = math.sqrt(p1*(1-p1)/100 + p2*(1-p2)/100)\n",
    "\n",
    "# Calculating the z-score\n",
    "# This problem requires us to find the probability that p1 is less than p2. This is equivalent to finding the probability that p1 - p2 is less than zero.\n",
    "# Hence z-score is negative when sample proportion mean is zero\n",
    "z_calculated = (0 - mean)/std_dev\n",
    "\n",
    "prob = scipy.stats.norm.pdf(z_calculated)\n",
    "\n",
    "print(f\"The z score for which greater percentage of Republican voters are there in the second state than first state is {z_calculated}.\")\n",
    "print(f\"The probability such that Republican voters in the second state is more than first state is {prob}.\")"
   ]
  },
  {
   "cell_type": "markdown",
   "metadata": {},
   "source": [
    "# Problem 3:"
   ]
  },
  {
   "cell_type": "markdown",
   "metadata": {},
   "source": [
    "You take the SAT and score 1100. The mean score for the SAT is 1026 and the standard\n",
    "deviation is 209. How well did you score on the test compared to the average test taker?"
   ]
  },
  {
   "cell_type": "code",
   "execution_count": 4,
   "metadata": {},
   "outputs": [
    {
     "name": "stdout",
     "output_type": "stream",
     "text": [
      "My score is 0.35406698564593303 times standard deviation above the mean.\n",
      "The percentage of students that scored below me is 63.835565843531896\n"
     ]
    }
   ],
   "source": [
    "# My SAT Score\n",
    "my_score = 1100\n",
    "\n",
    "# Mean SAT Score\n",
    "mean = 1026\n",
    "\n",
    "# Standard Deviation\n",
    "std_dev = 209\n",
    "\n",
    "# Calculating the z-score\n",
    "z_calculated = (my_score - mean)/std_dev\n",
    "\n",
    "print(f\"My score is {z_calculated} times standard deviation above the mean.\")\n",
    "\n",
    "val = scipy.stats.norm.cdf(z_calculated)\n",
    "\n",
    "print(f\"The percentage of students that scored below me is {val*100}\")"
   ]
  }
 ],
 "metadata": {
  "kernelspec": {
   "display_name": "Python 3",
   "language": "python",
   "name": "python3"
  },
  "language_info": {
   "codemirror_mode": {
    "name": "ipython",
    "version": 3
   },
   "file_extension": ".py",
   "mimetype": "text/x-python",
   "name": "python",
   "nbconvert_exporter": "python",
   "pygments_lexer": "ipython3",
   "version": "3.8.5"
  }
 },
 "nbformat": 4,
 "nbformat_minor": 4
}
