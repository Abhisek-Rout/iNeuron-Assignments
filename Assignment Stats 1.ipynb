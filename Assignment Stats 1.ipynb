{
 "cells": [
  {
   "cell_type": "markdown",
   "metadata": {},
   "source": [
    "# Problem 1:"
   ]
  },
  {
   "cell_type": "markdown",
   "metadata": {},
   "source": [
    "Calculate the mean, median, mode and standard deviation for the problem. The marks awarded for an assignment set for a Year 8 class of 20 students were as follows:\n",
    "6 7 5 7 7 8 7 6 9 7 4 10 6 8 8 9 5 6 4 8"
   ]
  },
  {
   "cell_type": "code",
   "execution_count": null,
   "metadata": {},
   "outputs": [],
   "source": [
    "import numpy as np\n",
    "import pandas as pd\n",
    "from scipy import stats"
   ]
  },
  {
   "cell_type": "code",
   "execution_count": null,
   "metadata": {},
   "outputs": [],
   "source": [
    "dataset = [6,7,5,7,7,8,7,6,9,7,4,10,6,8,8,9,5,6,4,8]\n",
    "\n",
    "#mean value\n",
    "mean = np.mean(dataset)\n",
    "\n",
    "#median value\n",
    "median = np.median(dataset)\n",
    "\n",
    "#mode value\n",
    "mode = stats.mode(dataset)\n",
    "\n",
    "#variance\n",
    "vr = np.var(dataset)\n",
    "\n",
    "#standard deviation\n",
    "std = np.std(dataset)\n",
    "\n",
    "print(f\"Mean: {mean}\")\n",
    "print(f\"Median: {median}\")\n",
    "print(f\"Mode: {mode}\")\n",
    "print(f\"Variance: {vr}\")\n",
    "print(f\"Standard deviation: {std}\")"
   ]
  },
  {
   "cell_type": "markdown",
   "metadata": {},
   "source": [
    "# Problem 2:"
   ]
  },
  {
   "cell_type": "markdown",
   "metadata": {},
   "source": [
    "The number of calls from motorists per day for roadside service was recorded for a\n",
    "particular month:\n",
    "28, 122, 217, 130, 120, 86, 80, 90, 140, 120, 70, 40, 145, 113, 90, 68, 174, 194, 170,\n",
    "100, 75, 104, 97, 75,123, 100, 75, 104, 97, 75, 123, 100, 89, 120, 109"
   ]
  },
  {
   "cell_type": "code",
   "execution_count": null,
   "metadata": {},
   "outputs": [],
   "source": [
    "dataset1 = [28, 122, 217, 130, 120, 86, 80, 90, 140, 120, 70, 40, 145, 113, 90, 68, 174, 194, 170,100, 75, 104, 97, 75,123, 100, 75, 104, 97, 75, 123, 100, 89, 120, 109]\n",
    "\n",
    "#mean value\n",
    "mean = np.mean(dataset1)\n",
    "\n",
    "#median value\n",
    "median = np.median(dataset1)\n",
    "\n",
    "#mode value\n",
    "mode = stats.mode(dataset1)\n",
    "\n",
    "#variance\n",
    "vr = np.var(dataset1)\n",
    "\n",
    "#standard deviation\n",
    "std = np.std(dataset1)\n",
    "\n",
    "print(f\"Mean: {mean}\")\n",
    "print(f\"Median: {median}\")\n",
    "print(f\"Mode: {mode}\")\n",
    "print(f\"Variance: {vr}\")\n",
    "print(f\"Standard deviation: {std}\")"
   ]
  },
  {
   "cell_type": "markdown",
   "metadata": {},
   "source": [
    "# Problem 3:"
   ]
  },
  {
   "cell_type": "markdown",
   "metadata": {},
   "source": [
    "The number of times I go to the gym in weekdays, are given below along with its\n",
    "associated probability:\n",
    "x = 0, 1, 2, 3, 4, 5\n",
    "f(x) = 0.09, 0.15, 0.40, 0.25, 0.10, 0.01\n",
    "Calculate the mean no. of workouts in a week. Also evaluate the variance involved in it."
   ]
  },
  {
   "cell_type": "code",
   "execution_count": null,
   "metadata": {},
   "outputs": [],
   "source": [
    "data = {\n",
    "    'x' : [0,1,2,3,4,5],\n",
    "    'f(x)' : [0.09, 0.15, 0.40, 0.25, 0.10, 0.01]\n",
    "}\n",
    "df = pd.DataFrame(data)\n",
    "df"
   ]
  },
  {
   "cell_type": "code",
   "execution_count": null,
   "metadata": {},
   "outputs": [],
   "source": [
    "df[\"x*f(x)\"] = df[\"x\"]*df[\"f(x)\"]\n",
    "df"
   ]
  },
  {
   "cell_type": "code",
   "execution_count": null,
   "metadata": {},
   "outputs": [],
   "source": [
    "# Mean of no. of workouts in  given week\n",
    "\n",
    "mean = df['x*f(x)'].sum()\n",
    "print(mean)"
   ]
  },
  {
   "cell_type": "code",
   "execution_count": null,
   "metadata": {},
   "outputs": [],
   "source": [
    "df[\"x^2*f(x)\"] = (df[\"x\"]**2)*df[\"f(x)\"]\n",
    "df"
   ]
  },
  {
   "cell_type": "code",
   "execution_count": null,
   "metadata": {},
   "outputs": [],
   "source": [
    "# Variance calculation\n",
    "var = df['x^2*f(x)'].sum() - mean**2\n",
    "print(var)"
   ]
  },
  {
   "cell_type": "markdown",
   "metadata": {},
   "source": [
    "# Problem 4:"
   ]
  },
  {
   "cell_type": "markdown",
   "metadata": {},
   "source": [
    "Let the continuous random variable D denote the diameter of the hole drilled in an\n",
    "aluminum sheet. The target diameter to be achieved is 12.5mm. Random\n",
    "disturbances in the process often result in inaccuracy.\n",
    "Historical data shows that the distribution of D can be modelled by the PDF (𝑑) =\n",
    "20𝑒−20(𝑑−12.5), 𝑑 ≥ 12.5. If a part with diameter > 12.6 mm needs to be scrapped,\n",
    "what is the proportion of those parts? What is the CDF when the diameter is of 11\n",
    "mm? What is your conclusion regarding the proportion of scraps?"
   ]
  },
  {
   "cell_type": "code",
   "execution_count": null,
   "metadata": {},
   "outputs": [],
   "source": [
    "from math import exp\n",
    "from scipy.integrate import quad"
   ]
  },
  {
   "cell_type": "markdown",
   "metadata": {},
   "source": [
    "##### If a part with diameter > 12.6 mm needs to be scrapped, what is the proportion of those parts?"
   ]
  },
  {
   "cell_type": "code",
   "execution_count": null,
   "metadata": {},
   "outputs": [],
   "source": [
    "# Defining the probability density function\n",
    "def p(d):\n",
    "    return 20*exp(-20*(d-12.5))\n",
    "\n",
    "# P(d > 12.6) is given by integrating the PDF from 12.6 to infinite.\n",
    "res = quad(p, 12.6, np.inf)\n",
    "\n",
    "# Proportion of d > 12.6 i.e P(12.5 < d < 12.6)\n",
    "proportion = 1 - res[0]\n",
    "print(f\"Hence the proportion of d > 12.6mm that needs to be scrapped is: {proportion}\")"
   ]
  },
  {
   "cell_type": "markdown",
   "metadata": {},
   "source": [
    "#####  What is the CDF when the diameter is of 11 mm?"
   ]
  },
  {
   "cell_type": "code",
   "execution_count": null,
   "metadata": {},
   "outputs": [],
   "source": [
    "# The CDF for d = 11 mm can be obtained by integrating the PDF from -np.inf to 11. But since diameter can't be negative we will be integrating from 0 to 11.\n",
    "cdf = quad(p, 0, 11)\n",
    "\n",
    "print(f\"Hence the CDF for the diameter of 11mm is: {cdf[0]}\")"
   ]
  },
  {
   "cell_type": "markdown",
   "metadata": {},
   "source": [
    "##### What is your conclusion regarding the proportion of scraps?"
   ]
  },
  {
   "cell_type": "markdown",
   "metadata": {},
   "source": [
    "The proportion of scrapped metal increases to 100% as we gradually increase the target radius from 12.5. So we become more sure about the 12.5mm diameter of metal that has will be scrapped when we sligtly increase the target radius."
   ]
  },
  {
   "cell_type": "markdown",
   "metadata": {},
   "source": [
    "# Problem 5:"
   ]
  },
  {
   "cell_type": "markdown",
   "metadata": {},
   "source": [
    "A company manufactures LED bulbs with a faulty rate of 30%. If I randomly select 6\n",
    "chosen LEDs, what is the probability of having 2 faulty LEDs in my sample?\n",
    "Calculate the average value of this process. Also evaluate the standard deviation\n",
    "associated with it."
   ]
  },
  {
   "cell_type": "markdown",
   "metadata": {},
   "source": [
    "#####  What is the probability of having 2 faulty LEDs in my sample?"
   ]
  },
  {
   "cell_type": "code",
   "execution_count": null,
   "metadata": {},
   "outputs": [],
   "source": [
    "from scipy.stats import binom\n",
    "\n",
    "# Failure rate\n",
    "faulty = 0.3\n",
    "\n",
    "data = binom.pmf(k=2, n=6, p=faulty)\n",
    "print(f\"The probability of having 2 faulty LED's in sample is: {data}\")"
   ]
  },
  {
   "cell_type": "markdown",
   "metadata": {},
   "source": [
    "##### Calculate the average value of this process and standard deviation."
   ]
  },
  {
   "cell_type": "code",
   "execution_count": null,
   "metadata": {},
   "outputs": [],
   "source": [
    "import math"
   ]
  },
  {
   "cell_type": "code",
   "execution_count": null,
   "metadata": {},
   "outputs": [],
   "source": [
    "mean, var = binom.stats(n=6, p=faulty)\n",
    "print(f\"Average value is : {mean}\")\n",
    "print(f\"Standad deviation is : {math.sqrt(var)}\")"
   ]
  },
  {
   "cell_type": "markdown",
   "metadata": {},
   "source": [
    "# Problem 6:"
   ]
  },
  {
   "cell_type": "markdown",
   "metadata": {},
   "source": [
    "Gaurav and Barakha are both preparing for entrance exams. Gaurav attempts to\n",
    "solve 8 questions per day with a correction rate of 75%, while Barakha averages\n",
    "around 12 questions per day with a correction rate of 45%. What is the probability\n",
    "that each of them will solve 5 questions correctly? What happens in cases of 4 and 6\n",
    "correct solutions? What do you infer from it? What are the two main governing\n",
    "factors affecting their ability to solve questions correctly? Give a pictorial\n",
    "representation of the same to validate your answer."
   ]
  },
  {
   "cell_type": "code",
   "execution_count": null,
   "metadata": {},
   "outputs": [],
   "source": [
    "Gaurav_success = 0.75\n",
    "Baraka_success = 0.45\n",
    "\n",
    "def correct_question(que, trails, success):\n",
    "    return binom.pmf(k=que, n=trails, p=success)\n",
    "\n",
    "# Probability for each of them to solve 5 Qs correctly\n",
    "# For Gaurav\n",
    "print(f\"Probability of Gaurav for solving 5Qs correctly is {correct_question(5, 8, Gaurav_success)}\")\n",
    "# For Barakha\n",
    "print(f\"Probability of Barkha for solving 5Qs correctly is {correct_question(5, 12, Baraka_success)}\")"
   ]
  },
  {
   "cell_type": "code",
   "execution_count": null,
   "metadata": {},
   "outputs": [],
   "source": [
    "# Probability for each of them to solve 4 Qs correctly\n",
    "# For Gaurav\n",
    "print(f\"Probability of Gaurav for solving 4Qs correctly is {correct_question(4, 8, Gaurav_success)}\")\n",
    "# For Barakha\n",
    "print(f\"Probability of Barkha for solving 4Qs correctly is {correct_question(4, 12, Baraka_success)}\")"
   ]
  },
  {
   "cell_type": "code",
   "execution_count": null,
   "metadata": {},
   "outputs": [],
   "source": [
    "# Probability for each of them to solve 6 Qs correctly\n",
    "# For Gaurav\n",
    "print(f\"Probability of Gaurav for solving 6Qs correctly is {correct_question(6, 8, Gaurav_success)}\")\n",
    "# For Barakha\n",
    "print(f\"Probability of Barkha for solving 6Qs correctly is {correct_question(6, 12, Baraka_success)}\")"
   ]
  },
  {
   "cell_type": "markdown",
   "metadata": {},
   "source": [
    "#####  What do you infer from it?"
   ]
  },
  {
   "cell_type": "markdown",
   "metadata": {},
   "source": [
    "Gaurav is performing better than Barkha if the number of questions that to be made correct is more. Barkha performs well when less no. questions are verified to be correct. But overall for a given set of questions there are high chances that Gaurav will perform better than Barkaha."
   ]
  },
  {
   "cell_type": "markdown",
   "metadata": {},
   "source": [
    "##### What are the two main governing factors affecting their ability to solve questions correctly?"
   ]
  },
  {
   "cell_type": "markdown",
   "metadata": {},
   "source": [
    "1. Total no of questions asked to solve.\n",
    "2. No of questions expected to be correct."
   ]
  },
  {
   "cell_type": "markdown",
   "metadata": {},
   "source": [
    "##### Give a pictorial representation of the same to validate your answer."
   ]
  },
  {
   "cell_type": "code",
   "execution_count": null,
   "metadata": {},
   "outputs": [],
   "source": [
    "import matplotlib.pyplot as plt\n",
    "%matplotlib inline\n",
    "\n",
    "def bino_plot(trails, success, title):\n",
    "    r_val = list(range(trails + 1))\n",
    "    print(r_val)\n",
    "    \n",
    "    data = [binom.pmf(r, trails, success) for r in r_val]\n",
    "    print(data)\n",
    "    \n",
    "    plt.figure(figsize=(15,6))\n",
    "    plt.bar(r_val, data)\n",
    "    plt.title(title)\n",
    "    plt.xlabel('No. of correct question')\n",
    "    plt.ylabel('Probability of getting correct')\n",
    "    plt.show()\n",
    "    \n",
    "    return"
   ]
  },
  {
   "cell_type": "code",
   "execution_count": null,
   "metadata": {},
   "outputs": [],
   "source": [
    "# Plot for Gaurav\n",
    "bino_plot(8, Gaurav_success, \"Gaurav's plot\")"
   ]
  },
  {
   "cell_type": "code",
   "execution_count": null,
   "metadata": {},
   "outputs": [],
   "source": [
    "# Plot for Barkha\n",
    "bino_plot(12, Baraka_success, \"Barkha's plot\")"
   ]
  },
  {
   "cell_type": "markdown",
   "metadata": {},
   "source": [
    "# Problem 7:"
   ]
  },
  {
   "cell_type": "markdown",
   "metadata": {},
   "source": [
    "Customers arrive at a rate of 72 per hour to my shop. What is the probability of 𝑘\n",
    "customers arriving in 4 minutes? a) 5 customers, b) not more than 3 customers, c)\n",
    "more than 3 customers. Give a pictorial representation of the same to validate your\n",
    "answer."
   ]
  },
  {
   "cell_type": "code",
   "execution_count": null,
   "metadata": {},
   "outputs": [],
   "source": [
    "from scipy.stats import poisson"
   ]
  },
  {
   "cell_type": "code",
   "execution_count": null,
   "metadata": {},
   "outputs": [],
   "source": [
    "customer_arrival_rate = 72/60\n",
    "\n",
    "#Customers that will arrive in 4mins is \n",
    "customers = customer_arrival_rate*4\n",
    "\n",
    "print(f\"Customer arrival rate : {customer_arrival_rate}\")\n",
    "print(f\"Customers arriving in 4mins : {customers}\")"
   ]
  },
  {
   "cell_type": "code",
   "execution_count": null,
   "metadata": {},
   "outputs": [],
   "source": [
    "# Probability of arrival of 5 customers in 4mins\n",
    "ans = poisson.pmf(k=3, mu=customers)\n",
    "print(f\"Probaility of arrival of 5 customers in 4mins is: {ans}\")"
   ]
  },
  {
   "cell_type": "code",
   "execution_count": null,
   "metadata": {},
   "outputs": [],
   "source": [
    "# Probability of arrival of not more than 3 customers\n",
    "ans = poisson.cdf(k=3, mu=customers)\n",
    "print(f\"Probaility of arrival of not more than 3 customers in 4mins is: {ans}\")"
   ]
  },
  {
   "cell_type": "code",
   "execution_count": null,
   "metadata": {},
   "outputs": [],
   "source": [
    "# Probability of arrival of more than 3 customers\n",
    "ans = 1 - poisson.cdf(k=3, mu=customers)\n",
    "print(f\"Probaility of arrival of more than 3 customers in 4mins is: {ans}\")"
   ]
  },
  {
   "cell_type": "markdown",
   "metadata": {},
   "source": [
    "#####  Give a pictorial representation of the same to validate your answer."
   ]
  },
  {
   "cell_type": "code",
   "execution_count": null,
   "metadata": {},
   "outputs": [],
   "source": [
    "import seaborn as sns\n",
    "data = poisson.rvs(mu=customers, size=1000)\n",
    "\n",
    "plt.figure(figsize=(15,6))\n",
    "sns.distplot(data,hist=True,kde=True,color=\"blue\")\n",
    "plt.title('Poisson Distribution')\n",
    "plt.xlabel('No of customers arriving')\n",
    "plt.ylabel('Pobability of customers arriving');"
   ]
  },
  {
   "cell_type": "markdown",
   "metadata": {},
   "source": [
    "# Problem 8:"
   ]
  },
  {
   "cell_type": "markdown",
   "metadata": {},
   "source": [
    "I work as a data analyst in Aeon Learning Pvt. Ltd. After analyzing data, I make\n",
    "reports, where I have the efficiency of entering 77 words per minute with 6 errors per\n",
    "hour. What is the probability that I will commit 2 errors in a 455-word financial report?\n",
    "What happens when the no. of words increases/decreases (in case of 1000 words,\n",
    "255 words)?\n",
    "How is the 𝜆 affected?\n",
    "How does it influence the PMF?\n",
    "Give a pictorial representation of the same to validate your answer."
   ]
  },
  {
   "cell_type": "code",
   "execution_count": null,
   "metadata": {},
   "outputs": [],
   "source": [
    "word_typing_speed = 77\n",
    "error_rate = 6/60\n",
    "\n",
    "# time taken for 455-word financial report\n",
    "time = 455/word_typing_speed\n",
    "\n",
    "# Error comitted in that particular time interval\n",
    "errors = error_rate*time\n",
    "\n",
    "# Probability of getting only 2 errors in 455-word report\n",
    "ans = poisson.pmf(k=2, mu=errors)\n",
    "print(f\"Probability of getting 2 errors in 455-word financial report is: {ans}\")"
   ]
  },
  {
   "cell_type": "markdown",
   "metadata": {},
   "source": [
    "##### What happens when the no. of words increases to 1000?"
   ]
  },
  {
   "cell_type": "code",
   "execution_count": null,
   "metadata": {},
   "outputs": [],
   "source": [
    "# time taken for 1000-word financial report\n",
    "time = 1000/word_typing_speed\n",
    "\n",
    "# Error comitted in that particular time interval\n",
    "errors = error_rate*time\n",
    "\n",
    "# Probability of getting only 2 errors in 1000-word report\n",
    "ans = poisson.pmf(k=2, mu=errors)\n",
    "print(f\"Probability of getting 2 errors in 1000-word financial report is: {ans}\")"
   ]
  },
  {
   "cell_type": "markdown",
   "metadata": {},
   "source": [
    "What happens when the no. of word decreases to 255?"
   ]
  },
  {
   "cell_type": "code",
   "execution_count": null,
   "metadata": {},
   "outputs": [],
   "source": [
    "# time taken for 455-word financial report\n",
    "time = 255/word_typing_speed\n",
    "\n",
    "# Error comitted in that particular time interval\n",
    "errors = error_rate*time\n",
    "\n",
    "# Probability of getting only 2 errors in 255-word report\n",
    "ans = poisson.pmf(k=2, mu=errors)\n",
    "print(f\"Probability of getting 2 errors in 255-word financial report is: {ans}\")"
   ]
  },
  {
   "cell_type": "markdown",
   "metadata": {},
   "source": [
    "##### How is the 𝜆 affected?"
   ]
  },
  {
   "cell_type": "markdown",
   "metadata": {},
   "source": [
    "Here 𝜆 is analog to errors. If the no. of words increases then the number of errors commited increases. This happens because error rate is constant but the time required to type the report increases with increase in wrod number in the report."
   ]
  },
  {
   "cell_type": "markdown",
   "metadata": {},
   "source": [
    "##### How does 𝜆 influence the PMF?"
   ]
  },
  {
   "cell_type": "markdown",
   "metadata": {},
   "source": [
    "As 𝜆 increases the probability of comitting a definite amount of error increases. Here above the definite error is 2, but the word number increased with time."
   ]
  },
  {
   "cell_type": "code",
   "execution_count": null,
   "metadata": {},
   "outputs": [],
   "source": [
    "sns.set_style('darkgrid')"
   ]
  },
  {
   "cell_type": "code",
   "execution_count": null,
   "metadata": {},
   "outputs": [],
   "source": [
    "# Words in the report\n",
    "words = list(range(100,1001,50))\n",
    "time_list = [word/word_typing_speed for word in words]\n",
    "errors = [error_rate*time for time in time_list]\n",
    "\n",
    "# Probability of getting 2 errors only with varying Words in report\n",
    "data = [poisson.pmf(k=2, mu = error) for error in errors]\n",
    "\n",
    "plt.figure(figsize=(15,6))\n",
    "plt.plot(words, data, 'o--r')\n",
    "plt.xlabel('No of words in report')\n",
    "plt.ylabel('Probality of committing 2 errors')\n",
    "plt.title('Probality of committing 2 errors vs Words')\n",
    "plt.show();"
   ]
  },
  {
   "cell_type": "markdown",
   "metadata": {},
   "source": [
    "# Problem 9:"
   ]
  },
  {
   "cell_type": "markdown",
   "metadata": {},
   "source": [
    "Let the continuous random variable D denote the diameter of the hole drilled in an\n",
    "aluminum sheet. The target diameter to be achieved is 12.5mm. Random\n",
    "disturbances in the process often result in inaccuracy.\n",
    "Historical data shows that the distribution of D can be modelled by the PDF, f(d) =\n",
    "20e−20(d−12.5), d ≥ 12.5. If a part with diameter > 12.6 mm needs to be scrapped,\n",
    "what is the proportion of those parts? What is the CDF when the diameter is of 11\n",
    "mm?\n",
    "What is the conclusion of this experiment?"
   ]
  },
  {
   "cell_type": "code",
   "execution_count": null,
   "metadata": {},
   "outputs": [],
   "source": [
    "# Defining the probability density function\n",
    "def p(d):\n",
    "    return 20*exp(-20*(d-12.5))\n",
    "\n",
    "# P(d > 12.6) is given by integrating the PDF from 12.6 to infinite.\n",
    "res = quad(p, 12.6, np.inf)\n",
    "\n",
    "# Proportion of d > 12.6 i.e P(12.5 < d < 12.6)\n",
    "proportion = 1 - res[0]\n",
    "print(f\"Hence the proportion of d > 12.6mm that needs to be scrapped is: {proportion}\")"
   ]
  },
  {
   "cell_type": "code",
   "execution_count": null,
   "metadata": {},
   "outputs": [],
   "source": [
    "# The CDF for d = 11 mm can be obtained by integrating the PDF from -np.inf to 11. But since diameter can't be negative we will be integrating from 0 to 11.\n",
    "cdf = quad(p, 0, 11)\n",
    "\n",
    "print(f\"Hence the CDF for the diameter of 11mm is: {cdf[0]}\")"
   ]
  },
  {
   "cell_type": "markdown",
   "metadata": {},
   "source": [
    "##### What is the CDF when the diameter is of 11 mm?"
   ]
  },
  {
   "cell_type": "code",
   "execution_count": null,
   "metadata": {},
   "outputs": [],
   "source": [
    "# The CDF for d = 11 mm can be obtained by integrating the PDF from -np.inf to 11. But since diameter can't be negative we will be integrating from 0 to 11.\n",
    "cdf = quad(p, 0, 11)\n",
    "\n",
    "print(f\"Hence the CDF for the diameter of 11mm is: {cdf[0]}\")"
   ]
  },
  {
   "cell_type": "markdown",
   "metadata": {},
   "source": [
    "##### What is the conclusion of this experiment?"
   ]
  },
  {
   "cell_type": "markdown",
   "metadata": {},
   "source": [
    "The proportion of scrapped metal increases to 100% as we gradually increase the target radius from 12.5. So we become more sure about the 12.5mm diameter of metal that has will be scrapped when we sligtly increase the target radius."
   ]
  },
  {
   "cell_type": "markdown",
   "metadata": {},
   "source": [
    "# Problem 10:"
   ]
  },
  {
   "cell_type": "markdown",
   "metadata": {},
   "source": [
    "Please compute the following:  \n",
    "a) P(Z > 1.26), . P(Z < −0.86), P(Z > −1.37), P(−1.25 < Z < 0.37), . P(Z ≤ −4.6)  \n",
    "b) Find the value 𝑧 such that 𝑃(𝑍 > 𝑧) = 0.05  \n",
    "c) Find the value of 𝑧 such that 𝑃(−𝑧 < 𝑍 < 𝑧) = 0.99  "
   ]
  },
  {
   "cell_type": "markdown",
   "metadata": {},
   "source": [
    "##### a) P(Z > 1.26), . P(Z < −0.86), P(Z > −1.37), P(−1.25 < Z < 0.37), . P(Z ≤ −4.6)  "
   ]
  },
  {
   "cell_type": "code",
   "execution_count": null,
   "metadata": {},
   "outputs": [],
   "source": [
    "from scipy.stats import norm"
   ]
  },
  {
   "cell_type": "code",
   "execution_count": null,
   "metadata": {},
   "outputs": [],
   "source": [
    "# P(Z > 1.26)\n",
    "ans = 1 - norm.cdf(1.26)\n",
    "print(f\"P(Z > 1.26) = {ans}\")"
   ]
  },
  {
   "cell_type": "code",
   "execution_count": null,
   "metadata": {},
   "outputs": [],
   "source": [
    "# P(Z < -0.86)\n",
    "ans = norm.cdf(-0.86)\n",
    "print(f\"P(Z < -0.86) = {ans}\")"
   ]
  },
  {
   "cell_type": "code",
   "execution_count": null,
   "metadata": {},
   "outputs": [],
   "source": [
    "# P(Z > -1.37)\n",
    "ans = 1 - norm.cdf(-1.37)\n",
    "print(f\"P(Z > -1.37) = {ans}\")"
   ]
  },
  {
   "cell_type": "code",
   "execution_count": null,
   "metadata": {},
   "outputs": [],
   "source": [
    "# P(-1.25 < Z < 0.37)\n",
    "ans1 = norm.cdf(-1.25)\n",
    "ans2 = norm.cdf(0.37)\n",
    "\n",
    "ans = ans2 - ans1\n",
    "print(f\"P(-1.25 < Z <0.37) = {ans}\")"
   ]
  },
  {
   "cell_type": "code",
   "execution_count": null,
   "metadata": {},
   "outputs": [],
   "source": [
    "# P(Z <= -4.6)'\n",
    "ans = norm.cdf(-4.6)\n",
    "print(f\"P(Z <= -4.6) = {ans}\")"
   ]
  },
  {
   "cell_type": "markdown",
   "metadata": {},
   "source": [
    "##### b) Find the value 𝑧 such that 𝑃(𝑍 > 𝑧) = 0.05"
   ]
  },
  {
   "cell_type": "code",
   "execution_count": null,
   "metadata": {},
   "outputs": [],
   "source": [
    "area_from_left = 1-0.05\n",
    "ans = norm.ppf(area_from_left)\n",
    "print(f\"The value 𝑧 such that 𝑃(𝑍 > 𝑧) = 0.05 is {ans}\")"
   ]
  },
  {
   "cell_type": "markdown",
   "metadata": {},
   "source": [
    "##### c) Find the value of 𝑧 such that 𝑃(−𝑧 < 𝑍 < 𝑧) = 0.99"
   ]
  },
  {
   "cell_type": "code",
   "execution_count": null,
   "metadata": {},
   "outputs": [],
   "source": [
    "remaing_area = 1-0.99\n",
    "# This left out area is divided equally\n",
    "a_left = remaing_area/2\n",
    "a_right = a_left + remaing_area\n",
    "\n",
    "z1 = norm.ppf(a_left)\n",
    "z2 = norm.ppf(a_right)\n",
    "\n",
    "print(f\"The value of z such that P(-z < Z <z) = P({z1} < Z < {z2})\")"
   ]
  },
  {
   "cell_type": "markdown",
   "metadata": {},
   "source": [
    "# Problem 11:"
   ]
  },
  {
   "cell_type": "markdown",
   "metadata": {},
   "source": [
    "The current flow in a copper wire follow a normal distribution with a mean of 10 𝑚A\n",
    "and a variance of 4 (𝑚𝐴)2.  \n",
    "What is the probability that a current measurement will exceed 13 𝑚𝐴? What is the\n",
    "probability that a current measurement is between 9 and 11mA? Determine the\n",
    "current measurement which has a probability of 0.98."
   ]
  },
  {
   "cell_type": "code",
   "execution_count": null,
   "metadata": {},
   "outputs": [],
   "source": [
    "mean = 10\n",
    "variance = 4\n",
    "stand_dev = math.sqrt(4)\n",
    "\n",
    "# Probability of current exceeding 13mA is P(current > 13)\n",
    "# Calculating z_value for 13mA current.\n",
    "def cal_z(val,mean,std_dev):\n",
    "    return (val-mean)/std_dev\n",
    "\n",
    "z = cal_z(13, mean, stand_dev)\n",
    "\n",
    "ans = 1 - norm.cdf(z)\n",
    "print(f\"Probability of current exceeding 13mA is {ans}\")"
   ]
  },
  {
   "cell_type": "markdown",
   "metadata": {},
   "source": [
    "##### What is the probability that a current measurement is between 9 and 11mA?"
   ]
  },
  {
   "cell_type": "code",
   "execution_count": null,
   "metadata": {},
   "outputs": [],
   "source": [
    "z1 = cal_z(9, mean, stand_dev)\n",
    "z2 = cal_z(11, mean, stand_dev)\n",
    "\n",
    "a1 = norm.cdf(z1)\n",
    "a2 = norm.cdf(z2)\n",
    "\n",
    "ans = a2 - a1\n",
    "print(f\"Probability of current measurement between 9mA and 11mA is {ans}\")"
   ]
  },
  {
   "cell_type": "markdown",
   "metadata": {},
   "source": [
    " Determine the current measurement which has a probability of 0.98."
   ]
  },
  {
   "cell_type": "code",
   "execution_count": null,
   "metadata": {},
   "outputs": [],
   "source": [
    "remaing_area = 1-0.98\n",
    "a_left = remaing_area/2\n",
    "a_right = a_left + remaing_area\n",
    "\n",
    "z1 = norm.ppf(a_left)\n",
    "z2 = norm.ppf(a_right)\n",
    "\n",
    "# Converting the z-values to its actual value.\n",
    "def rev_z(val, mean, std_dev):\n",
    "    return (val*std_dev) + mean\n",
    "\n",
    "current1 = rev_z(z1, mean, stand_dev)\n",
    "current2 = rev_z(z2, mean, stand_dev)\n",
    "\n",
    "print(f\"The current measurement which has a probability of 0.98 is between {round(current1,3)}mA and {round(current2,3)}mA.\")"
   ]
  },
  {
   "cell_type": "markdown",
   "metadata": {},
   "source": [
    "# Problem 12:"
   ]
  },
  {
   "cell_type": "markdown",
   "metadata": {},
   "source": [
    "The shaft in a piston has its diameter normally distributed with a mean of 0.2508 inch\n",
    "and a standard deviation of 0.0005 inch. The specifications of the shaft are 0.2500 ∓\n",
    "0.0015 inch. What proportion of shafts are in sync with the specifications? If the\n",
    "process is centered so that the mean is equal to the target value of 0.2500, what\n",
    "proportion of shafts conform to the new specifications? What is your conclusion from\n",
    "this experiment?"
   ]
  },
  {
   "cell_type": "markdown",
   "metadata": {},
   "source": [
    "##### What proportion of shafts are in sync with the specifications?"
   ]
  },
  {
   "cell_type": "code",
   "execution_count": null,
   "metadata": {},
   "outputs": [],
   "source": [
    "mean = 0.2508\n",
    "stand_dev = 0.0005\n",
    "\n",
    "#Since shaft specification is 0.2500 ∓ 0.0015 inch\n",
    "upper_limit = 0.2500+0.0015\n",
    "lower_limit = 0.2500-0.0015\n",
    "\n",
    "#Calculating the z-values of the corresponding uppper and lower limit.\n",
    "z1 = cal_z(upper_limit, mean, stand_dev)\n",
    "z2 = cal_z(lower_limit, mean, stand_dev)\n",
    "\n",
    "# Area from left in normal distribution graph\n",
    "a1 = norm.cdf(z1)\n",
    "a2 = norm.cdf(z2)\n",
    "\n",
    "ans = abs(a2 - a1)\n",
    "print(f\"The proportion of shaft that are in sync with specification having mean 0.2508 is {ans}\")"
   ]
  },
  {
   "cell_type": "markdown",
   "metadata": {},
   "source": [
    "##### If the process is centered so that the mean is equal to the target value of 0.2500, what proportion of shafts conform to the new specifications?"
   ]
  },
  {
   "cell_type": "code",
   "execution_count": null,
   "metadata": {},
   "outputs": [],
   "source": [
    "# Now the mean is 0.2500\n",
    "mean = 0.2500\n",
    "stand_dev = 0.0005\n",
    "\n",
    "#Since shaft specification is 0.2500 ∓ 0.0015 inch\n",
    "upper_limit = 0.2500+0.0015\n",
    "lower_limit = 0.2500-0.0015\n",
    "\n",
    "#Calculating the z-values of the corresponding uppper and lower limit.\n",
    "z1 = cal_z(upper_limit, mean, stand_dev)\n",
    "z2 = cal_z(lower_limit, mean, stand_dev)\n",
    "\n",
    "# Area from left in normal distribution graph\n",
    "a1 = norm.cdf(z1)\n",
    "a2 = norm.cdf(z2)\n",
    "\n",
    "ans = abs(a2 - a1)\n",
    "print(f\"The proportion of shaft that are in sync with specification having mean 0.2500 is {ans}\")"
   ]
  },
  {
   "cell_type": "markdown",
   "metadata": {},
   "source": [
    "##### What is your conclusion from this experiment?"
   ]
  },
  {
   "cell_type": "markdown",
   "metadata": {},
   "source": [
    "We concude that if the mean of the shaft is close to the target value, and the deviation lies between two standard deviations then the chances of getting shaft that are in sync with specification increases and tends to 1."
   ]
  }
 ],
 "metadata": {
  "kernelspec": {
   "display_name": "Python 3",
   "language": "python",
   "name": "python3"
  },
  "language_info": {
   "codemirror_mode": {
    "name": "ipython",
    "version": 3
   },
   "file_extension": ".py",
   "mimetype": "text/x-python",
   "name": "python",
   "nbconvert_exporter": "python",
   "pygments_lexer": "ipython3",
   "version": "3.8.5"
  }
 },
 "nbformat": 4,
 "nbformat_minor": 4
}
