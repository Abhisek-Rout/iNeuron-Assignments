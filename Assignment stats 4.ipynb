{
 "cells": [
  {
   "cell_type": "markdown",
   "metadata": {},
   "source": [
    "# Problem 1:"
   ]
  },
  {
   "cell_type": "markdown",
   "metadata": {},
   "source": [
    "Is gender independent of education level? A random sample of 395 people were\n",
    "surveyed and each person was asked to report the highest education level they\n",
    "obtained. The data that resulted from the survey is summarized in the following table:  \n",
    "Question: Are gender and education level dependent at 5% level of significance? In\n",
    "other words, given the data collected above, is there a relationship between the\n",
    "gender of an individual and the level of education that they have obtained?"
   ]
  },
  {
   "cell_type": "code",
   "execution_count": 1,
   "metadata": {},
   "outputs": [],
   "source": [
    "import scipy.stats \n",
    "import math\n",
    "import pandas as pd\n",
    "import numpy as np"
   ]
  },
  {
   "cell_type": "code",
   "execution_count": 2,
   "metadata": {},
   "outputs": [
    {
     "data": {
      "text/html": [
       "<div>\n",
       "<style scoped>\n",
       "    .dataframe tbody tr th:only-of-type {\n",
       "        vertical-align: middle;\n",
       "    }\n",
       "\n",
       "    .dataframe tbody tr th {\n",
       "        vertical-align: top;\n",
       "    }\n",
       "\n",
       "    .dataframe thead th {\n",
       "        text-align: right;\n",
       "    }\n",
       "</style>\n",
       "<table border=\"1\" class=\"dataframe\">\n",
       "  <thead>\n",
       "    <tr style=\"text-align: right;\">\n",
       "      <th></th>\n",
       "      <th>Gender</th>\n",
       "      <th>High School</th>\n",
       "      <th>Bachelors</th>\n",
       "      <th>Masters</th>\n",
       "      <th>PhD</th>\n",
       "    </tr>\n",
       "  </thead>\n",
       "  <tbody>\n",
       "    <tr>\n",
       "      <th>0</th>\n",
       "      <td>Female</td>\n",
       "      <td>60</td>\n",
       "      <td>54</td>\n",
       "      <td>46</td>\n",
       "      <td>41</td>\n",
       "    </tr>\n",
       "    <tr>\n",
       "      <th>1</th>\n",
       "      <td>Male</td>\n",
       "      <td>40</td>\n",
       "      <td>44</td>\n",
       "      <td>53</td>\n",
       "      <td>57</td>\n",
       "    </tr>\n",
       "  </tbody>\n",
       "</table>\n",
       "</div>"
      ],
      "text/plain": [
       "   Gender  High School  Bachelors  Masters  PhD\n",
       "0  Female           60         54       46   41\n",
       "1    Male           40         44       53   57"
      ]
     },
     "execution_count": 2,
     "metadata": {},
     "output_type": "execute_result"
    }
   ],
   "source": [
    "data = {\n",
    "    'Gender' : ['Female', 'Male'],\n",
    "    'High School' : [60, 40],\n",
    "    'Bachelors' : [54, 44],\n",
    "    'Masters' : [46, 53],\n",
    "    'PhD' : [41, 57]\n",
    "}\n",
    "\n",
    "df = pd.DataFrame(data)\n",
    "df"
   ]
  },
  {
   "cell_type": "markdown",
   "metadata": {},
   "source": [
    "##### Hypothesis\n",
    "H0 : Gender and education level are independent.  \n",
    "H1 : Gender and education level are dependent."
   ]
  },
  {
   "cell_type": "code",
   "execution_count": 3,
   "metadata": {},
   "outputs": [
    {
     "data": {
      "text/html": [
       "<div>\n",
       "<style scoped>\n",
       "    .dataframe tbody tr th:only-of-type {\n",
       "        vertical-align: middle;\n",
       "    }\n",
       "\n",
       "    .dataframe tbody tr th {\n",
       "        vertical-align: top;\n",
       "    }\n",
       "\n",
       "    .dataframe thead th {\n",
       "        text-align: right;\n",
       "    }\n",
       "</style>\n",
       "<table border=\"1\" class=\"dataframe\">\n",
       "  <thead>\n",
       "    <tr style=\"text-align: right;\">\n",
       "      <th></th>\n",
       "      <th>Gender</th>\n",
       "      <th>High School</th>\n",
       "      <th>Bachelors</th>\n",
       "      <th>Masters</th>\n",
       "      <th>PhD</th>\n",
       "      <th>Total</th>\n",
       "    </tr>\n",
       "  </thead>\n",
       "  <tbody>\n",
       "    <tr>\n",
       "      <th>0</th>\n",
       "      <td>Female</td>\n",
       "      <td>60</td>\n",
       "      <td>54</td>\n",
       "      <td>46</td>\n",
       "      <td>41</td>\n",
       "      <td>201</td>\n",
       "    </tr>\n",
       "    <tr>\n",
       "      <th>1</th>\n",
       "      <td>Male</td>\n",
       "      <td>40</td>\n",
       "      <td>44</td>\n",
       "      <td>53</td>\n",
       "      <td>57</td>\n",
       "      <td>194</td>\n",
       "    </tr>\n",
       "    <tr>\n",
       "      <th>2</th>\n",
       "      <td>Total</td>\n",
       "      <td>100</td>\n",
       "      <td>98</td>\n",
       "      <td>99</td>\n",
       "      <td>98</td>\n",
       "      <td>395</td>\n",
       "    </tr>\n",
       "  </tbody>\n",
       "</table>\n",
       "</div>"
      ],
      "text/plain": [
       "   Gender  High School  Bachelors  Masters  PhD  Total\n",
       "0  Female           60         54       46   41    201\n",
       "1    Male           40         44       53   57    194\n",
       "2   Total          100         98       99   98    395"
      ]
     },
     "execution_count": 3,
     "metadata": {},
     "output_type": "execute_result"
    }
   ],
   "source": [
    "df.loc[len(df.index)] = ['Total', df['High School'].sum(), df['Bachelors'].sum(), df['Masters'].sum(), df['PhD'].sum()]\n",
    "df['Total'] = df['High School'] + df['Bachelors'] + df['Masters'] + df['PhD']\n",
    "df"
   ]
  },
  {
   "cell_type": "code",
   "execution_count": 4,
   "metadata": {},
   "outputs": [
    {
     "name": "stdout",
     "output_type": "stream",
     "text": [
      "[[60, 40], [54, 44], [46, 53], [41, 57]]\n"
     ]
    }
   ],
   "source": [
    "data = [list(df['High School'][:-1]), list(df['Bachelors'][:-1]), list(df['Masters'][:-1]), list(df['PhD'][:-1])]\n",
    "print(data)"
   ]
  },
  {
   "cell_type": "code",
   "execution_count": 5,
   "metadata": {},
   "outputs": [
    {
     "name": "stdout",
     "output_type": "stream",
     "text": [
      "3\n",
      "The chi-square calculated value is 8.006066246262538.\n",
      "The value of chi-square calculated should be less than 7.814727903251179 in order to accept the null hypothesis.\n"
     ]
    }
   ],
   "source": [
    "# Calculation of chi-square from the above data\n",
    "chi_calculated = scipy.stats.chi2_contingency(data)[0]\n",
    "\n",
    "#Degree of freedom\n",
    "Dof = scipy.stats.chi2_contingency(data)[2]\n",
    "\n",
    "# As per question the level of significance is 5%\n",
    "p = 0.05\n",
    "chi_critical = scipy.stats.chi2.ppf(1-p, df=Dof)\n",
    "\n",
    "print(Dof)\n",
    "print(f\"The chi-square calculated value is {chi_calculated}.\")\n",
    "print(f\"The value of chi-square calculated should be less than {chi_critical} in order to accept the null hypothesis.\")"
   ]
  },
  {
   "cell_type": "markdown",
   "metadata": {},
   "source": [
    "##### Conclusion\n",
    "The calculated chi-square(i.e 8.0060) is more than chi-critical(i.e 7.8147).  \n",
    "Hence the null hypothesis is rejected.  \n",
    "We have enough evidence at 5% level of significance in order to prove that gender and education level are dependent."
   ]
  },
  {
   "cell_type": "markdown",
   "metadata": {},
   "source": [
    "# Problem 2:"
   ]
  },
  {
   "cell_type": "markdown",
   "metadata": {},
   "source": [
    "Using the following data, perform a oneway analysis of variance using α=.05. Write\n",
    "up the results in APA format."
   ]
  },
  {
   "cell_type": "code",
   "execution_count": 6,
   "metadata": {},
   "outputs": [
    {
     "data": {
      "text/html": [
       "<div>\n",
       "<style scoped>\n",
       "    .dataframe tbody tr th:only-of-type {\n",
       "        vertical-align: middle;\n",
       "    }\n",
       "\n",
       "    .dataframe tbody tr th {\n",
       "        vertical-align: top;\n",
       "    }\n",
       "\n",
       "    .dataframe thead th {\n",
       "        text-align: right;\n",
       "    }\n",
       "</style>\n",
       "<table border=\"1\" class=\"dataframe\">\n",
       "  <thead>\n",
       "    <tr style=\"text-align: right;\">\n",
       "      <th></th>\n",
       "      <th>Group1</th>\n",
       "      <th>Group2</th>\n",
       "      <th>Group3</th>\n",
       "    </tr>\n",
       "  </thead>\n",
       "  <tbody>\n",
       "    <tr>\n",
       "      <th>0</th>\n",
       "      <td>51</td>\n",
       "      <td>23</td>\n",
       "      <td>56</td>\n",
       "    </tr>\n",
       "    <tr>\n",
       "      <th>1</th>\n",
       "      <td>45</td>\n",
       "      <td>43</td>\n",
       "      <td>76</td>\n",
       "    </tr>\n",
       "    <tr>\n",
       "      <th>2</th>\n",
       "      <td>33</td>\n",
       "      <td>23</td>\n",
       "      <td>74</td>\n",
       "    </tr>\n",
       "    <tr>\n",
       "      <th>3</th>\n",
       "      <td>45</td>\n",
       "      <td>43</td>\n",
       "      <td>87</td>\n",
       "    </tr>\n",
       "    <tr>\n",
       "      <th>4</th>\n",
       "      <td>67</td>\n",
       "      <td>45</td>\n",
       "      <td>56</td>\n",
       "    </tr>\n",
       "  </tbody>\n",
       "</table>\n",
       "</div>"
      ],
      "text/plain": [
       "   Group1  Group2  Group3\n",
       "0      51      23      56\n",
       "1      45      43      76\n",
       "2      33      23      74\n",
       "3      45      43      87\n",
       "4      67      45      56"
      ]
     },
     "execution_count": 6,
     "metadata": {},
     "output_type": "execute_result"
    }
   ],
   "source": [
    "data = {\n",
    "    'Group1' : [51, 45, 33, 45, 67],\n",
    "    'Group2' : [23, 43, 23, 43, 45],\n",
    "    'Group3' : [56, 76, 74, 87, 56]\n",
    "}\n",
    "df = pd.DataFrame(data)\n",
    "df"
   ]
  },
  {
   "cell_type": "markdown",
   "metadata": {},
   "source": [
    "###### Hypothesis\n",
    "H0 : Population mean of all the groups are same.  \n",
    "H1 : Population mean of atleast one group is not same."
   ]
  },
  {
   "cell_type": "code",
   "execution_count": 7,
   "metadata": {},
   "outputs": [
    {
     "name": "stdout",
     "output_type": "stream",
     "text": [
      "Dof_between : 2\n",
      "Dof_within : 12\n",
      "Dof_total : 14\n"
     ]
    }
   ],
   "source": [
    "# Calculation of Degree of freedom\n",
    "Dof_between = len(df.columns) - 1\n",
    "Dof_within = df.size - len(df.columns)\n",
    "Dof_total = Dof_between + Dof_within\n",
    "\n",
    "print(\"Dof_between :\",Dof_between)\n",
    "print(\"Dof_within :\",Dof_within)\n",
    "print(\"Dof_total :\",Dof_total)"
   ]
  },
  {
   "cell_type": "code",
   "execution_count": 8,
   "metadata": {},
   "outputs": [
    {
     "name": "stdout",
     "output_type": "stream",
     "text": [
      "Group1_mean : 48.2\n",
      "Group2_mean : 35.4\n",
      "Group3_mean : 69.8\n",
      "Grand_mean : 51.13333333333333\n"
     ]
    }
   ],
   "source": [
    "# Mean_calculation\n",
    "\n",
    "Group1_mean = np.mean(df['Group1'])\n",
    "Group2_mean = np.mean(df['Group2'])\n",
    "Group3_mean = np.mean(df['Group3'])\n",
    "\n",
    "grand_mean = df.sum()[:].sum()/df.size\n",
    "\n",
    "print(\"Group1_mean :\",Group1_mean)\n",
    "print(\"Group2_mean :\",Group2_mean)\n",
    "print(\"Group3_mean :\",Group3_mean)\n",
    "print(\"Grand_mean :\",grand_mean)"
   ]
  },
  {
   "cell_type": "code",
   "execution_count": 9,
   "metadata": {},
   "outputs": [
    {
     "data": {
      "text/html": [
       "<div>\n",
       "<style scoped>\n",
       "    .dataframe tbody tr th:only-of-type {\n",
       "        vertical-align: middle;\n",
       "    }\n",
       "\n",
       "    .dataframe tbody tr th {\n",
       "        vertical-align: top;\n",
       "    }\n",
       "\n",
       "    .dataframe thead th {\n",
       "        text-align: right;\n",
       "    }\n",
       "</style>\n",
       "<table border=\"1\" class=\"dataframe\">\n",
       "  <thead>\n",
       "    <tr style=\"text-align: right;\">\n",
       "      <th></th>\n",
       "      <th>Group1</th>\n",
       "      <th>Group2</th>\n",
       "      <th>Group3</th>\n",
       "    </tr>\n",
       "  </thead>\n",
       "  <tbody>\n",
       "    <tr>\n",
       "      <th>0</th>\n",
       "      <td>0.017778</td>\n",
       "      <td>791.484444</td>\n",
       "      <td>23.684444</td>\n",
       "    </tr>\n",
       "    <tr>\n",
       "      <th>1</th>\n",
       "      <td>37.617778</td>\n",
       "      <td>66.151111</td>\n",
       "      <td>618.351111</td>\n",
       "    </tr>\n",
       "    <tr>\n",
       "      <th>2</th>\n",
       "      <td>328.817778</td>\n",
       "      <td>791.484444</td>\n",
       "      <td>522.884444</td>\n",
       "    </tr>\n",
       "    <tr>\n",
       "      <th>3</th>\n",
       "      <td>37.617778</td>\n",
       "      <td>66.151111</td>\n",
       "      <td>1286.417778</td>\n",
       "    </tr>\n",
       "    <tr>\n",
       "      <th>4</th>\n",
       "      <td>251.751111</td>\n",
       "      <td>37.617778</td>\n",
       "      <td>23.684444</td>\n",
       "    </tr>\n",
       "  </tbody>\n",
       "</table>\n",
       "</div>"
      ],
      "text/plain": [
       "       Group1      Group2       Group3\n",
       "0    0.017778  791.484444    23.684444\n",
       "1   37.617778   66.151111   618.351111\n",
       "2  328.817778  791.484444   522.884444\n",
       "3   37.617778   66.151111  1286.417778\n",
       "4  251.751111   37.617778    23.684444"
      ]
     },
     "execution_count": 9,
     "metadata": {},
     "output_type": "execute_result"
    }
   ],
   "source": [
    "df1 = df.apply(lambda x: (x-grand_mean)**2)\n",
    "df1"
   ]
  },
  {
   "cell_type": "code",
   "execution_count": 10,
   "metadata": {},
   "outputs": [
    {
     "name": "stdout",
     "output_type": "stream",
     "text": [
      "Sum of squares total (SST) : 4883.733333333334\n"
     ]
    }
   ],
   "source": [
    "SST = df1.sum()[:].sum()\n",
    "print(\"Sum of squares total (SST) :\",SST)"
   ]
  },
  {
   "cell_type": "code",
   "execution_count": 11,
   "metadata": {},
   "outputs": [
    {
     "name": "stdout",
     "output_type": "stream",
     "text": [
      "Sum of squares between group (SSB) : 3022.933333333333\n"
     ]
    }
   ],
   "source": [
    "SSB = 0\n",
    "\n",
    "for i in range(len(np.mean(df))):\n",
    "    SSB += ((np.mean(df)[i] - grand_mean)**2)*len(df.iloc[:,i])\n",
    "    \n",
    "print(\"Sum of squares between group (SSB) :\", SSB)"
   ]
  },
  {
   "cell_type": "code",
   "execution_count": 12,
   "metadata": {},
   "outputs": [
    {
     "name": "stdout",
     "output_type": "stream",
     "text": [
      "Sum of squares within group (SSW) : 1860.8000000000006\n"
     ]
    }
   ],
   "source": [
    "# Calculating SSW as we know SST = SSB + SSW\n",
    "SSW = SST - SSB\n",
    "print(\"Sum of squares within group (SSW) :\", SSW)"
   ]
  },
  {
   "cell_type": "code",
   "execution_count": 13,
   "metadata": {},
   "outputs": [
    {
     "name": "stdout",
     "output_type": "stream",
     "text": [
      "The calculated f-ratio is 9.747205503009454.\n",
      "The calculated f-ratio should be less than 5.095867165783942 in order to accept null hypothesis.\n"
     ]
    }
   ],
   "source": [
    "# Calculating f-ratio\n",
    "f_ratio_cal = (SSB/Dof_between)/(SSW/Dof_within)\n",
    "\n",
    "# Since in the question 5% level of significance is mentioned\n",
    "f_critical = scipy.stats.f.ppf(1-p/2, dfn = Dof_between, dfd = Dof_within)\n",
    "\n",
    "print(f\"The calculated f-ratio is {f_ratio_cal}.\")\n",
    "print(f\"The calculated f-ratio should be less than {f_critical} in order to accept null hypothesis.\")"
   ]
  },
  {
   "cell_type": "markdown",
   "metadata": {},
   "source": [
    "##### Conclusion\n",
    "The calculated f-ratio(i.e 9.7472) is more than f_critical(i.e 5.0958).  \n",
    "Hence the null hypothesis is rejected.  \n",
    "We conclude that at 5% level of significance the population mean of atleast one group is not same."
   ]
  },
  {
   "cell_type": "markdown",
   "metadata": {},
   "source": [
    "### APA Report"
   ]
  },
  {
   "cell_type": "markdown",
   "metadata": {},
   "source": [
    "###### ANOVA table"
   ]
  },
  {
   "cell_type": "code",
   "execution_count": 14,
   "metadata": {},
   "outputs": [
    {
     "data": {
      "text/html": [
       "<div>\n",
       "<style scoped>\n",
       "    .dataframe tbody tr th:only-of-type {\n",
       "        vertical-align: middle;\n",
       "    }\n",
       "\n",
       "    .dataframe tbody tr th {\n",
       "        vertical-align: top;\n",
       "    }\n",
       "\n",
       "    .dataframe thead th {\n",
       "        text-align: right;\n",
       "    }\n",
       "</style>\n",
       "<table border=\"1\" class=\"dataframe\">\n",
       "  <thead>\n",
       "    <tr style=\"text-align: right;\">\n",
       "      <th></th>\n",
       "      <th>source</th>\n",
       "      <th>SS</th>\n",
       "      <th>df</th>\n",
       "      <th>MS</th>\n",
       "      <th>F</th>\n",
       "    </tr>\n",
       "  </thead>\n",
       "  <tbody>\n",
       "    <tr>\n",
       "      <th>0</th>\n",
       "      <td>group</td>\n",
       "      <td>3022.93</td>\n",
       "      <td>2</td>\n",
       "      <td>1511.47</td>\n",
       "      <td>9.75</td>\n",
       "    </tr>\n",
       "    <tr>\n",
       "      <th>1</th>\n",
       "      <td>error</td>\n",
       "      <td>1860.80</td>\n",
       "      <td>12</td>\n",
       "      <td>155.07</td>\n",
       "      <td>NaN</td>\n",
       "    </tr>\n",
       "    <tr>\n",
       "      <th>2</th>\n",
       "      <td>total</td>\n",
       "      <td>4883.73</td>\n",
       "      <td>14</td>\n",
       "      <td>348.84</td>\n",
       "      <td>NaN</td>\n",
       "    </tr>\n",
       "  </tbody>\n",
       "</table>\n",
       "</div>"
      ],
      "text/plain": [
       "  source       SS  df       MS     F\n",
       "0  group  3022.93   2  1511.47  9.75\n",
       "1  error  1860.80  12   155.07   NaN\n",
       "2  total  4883.73  14   348.84   NaN"
      ]
     },
     "execution_count": 14,
     "metadata": {},
     "output_type": "execute_result"
    }
   ],
   "source": [
    "new_data = {\n",
    "    'source' : ['group', 'error', 'total'],\n",
    "    'SS' : [round(SSB,2), round(SSW,2), round(SST,2)],\n",
    "    'df' : [Dof_between, Dof_within, Dof_total],\n",
    "    'MS' : [round(SSB/Dof_between,2), round(SSW/Dof_within,2), round(SST/Dof_total,2)],\n",
    "    'F' : [round(f_ratio_cal,2), np.nan, np.nan]\n",
    "}\n",
    "df2 = pd.DataFrame(new_data)\n",
    "df2"
   ]
  },
  {
   "cell_type": "markdown",
   "metadata": {},
   "source": [
    "###### Effect size"
   ]
  },
  {
   "cell_type": "code",
   "execution_count": 15,
   "metadata": {},
   "outputs": [
    {
     "name": "stdout",
     "output_type": "stream",
     "text": [
      "Effect Size = 0.62\n"
     ]
    }
   ],
   "source": [
    "η2 = round(SSB/SST,2)\n",
    "print(\"Effect Size =\",η2)"
   ]
  },
  {
   "cell_type": "markdown",
   "metadata": {},
   "source": [
    "###### APA Writeup"
   ]
  },
  {
   "cell_type": "markdown",
   "metadata": {},
   "source": [
    "F(2, 12) = 9.75, p < 0.05, η2 = 0.62"
   ]
  },
  {
   "cell_type": "markdown",
   "metadata": {},
   "source": [
    "# Problem 3:"
   ]
  },
  {
   "cell_type": "markdown",
   "metadata": {},
   "source": [
    "Calculate F Test for given 10, 20, 30, 40, 50 and 5,10,15, 20, 25.\n",
    "For 10, 20, 30, 40, 50:"
   ]
  },
  {
   "cell_type": "code",
   "execution_count": 16,
   "metadata": {},
   "outputs": [
    {
     "data": {
      "text/html": [
       "<div>\n",
       "<style scoped>\n",
       "    .dataframe tbody tr th:only-of-type {\n",
       "        vertical-align: middle;\n",
       "    }\n",
       "\n",
       "    .dataframe tbody tr th {\n",
       "        vertical-align: top;\n",
       "    }\n",
       "\n",
       "    .dataframe thead th {\n",
       "        text-align: right;\n",
       "    }\n",
       "</style>\n",
       "<table border=\"1\" class=\"dataframe\">\n",
       "  <thead>\n",
       "    <tr style=\"text-align: right;\">\n",
       "      <th></th>\n",
       "      <th>Group1</th>\n",
       "      <th>Group2</th>\n",
       "    </tr>\n",
       "  </thead>\n",
       "  <tbody>\n",
       "    <tr>\n",
       "      <th>0</th>\n",
       "      <td>10</td>\n",
       "      <td>5</td>\n",
       "    </tr>\n",
       "    <tr>\n",
       "      <th>1</th>\n",
       "      <td>20</td>\n",
       "      <td>10</td>\n",
       "    </tr>\n",
       "    <tr>\n",
       "      <th>2</th>\n",
       "      <td>30</td>\n",
       "      <td>15</td>\n",
       "    </tr>\n",
       "    <tr>\n",
       "      <th>3</th>\n",
       "      <td>40</td>\n",
       "      <td>20</td>\n",
       "    </tr>\n",
       "    <tr>\n",
       "      <th>4</th>\n",
       "      <td>50</td>\n",
       "      <td>25</td>\n",
       "    </tr>\n",
       "  </tbody>\n",
       "</table>\n",
       "</div>"
      ],
      "text/plain": [
       "   Group1  Group2\n",
       "0      10       5\n",
       "1      20      10\n",
       "2      30      15\n",
       "3      40      20\n",
       "4      50      25"
      ]
     },
     "execution_count": 16,
     "metadata": {},
     "output_type": "execute_result"
    }
   ],
   "source": [
    "data = {\n",
    "    'Group1' : [10, 20, 30, 40, 50],\n",
    "    'Group2' : [5, 10, 15, 20, 25],\n",
    "}\n",
    "\n",
    "df = pd.DataFrame(data)\n",
    "df"
   ]
  },
  {
   "cell_type": "markdown",
   "metadata": {},
   "source": [
    "###### Hypothesis\n",
    "H0 : Population mean of both groups are same.  \n",
    "H1 : Population mean of both groups are not same."
   ]
  },
  {
   "cell_type": "code",
   "execution_count": 17,
   "metadata": {},
   "outputs": [
    {
     "name": "stdout",
     "output_type": "stream",
     "text": [
      "Dof_between : 1\n",
      "Dof_within : 8\n",
      "Dof_total : 9\n"
     ]
    }
   ],
   "source": [
    "# Calculation of Degree of freedom\n",
    "Dof_between = len(df.columns) - 1\n",
    "Dof_within = df.size - len(df.columns)\n",
    "Dof_total = Dof_between + Dof_within\n",
    "\n",
    "print(\"Dof_between :\",Dof_between)\n",
    "print(\"Dof_within :\",Dof_within)\n",
    "print(\"Dof_total :\",Dof_total)"
   ]
  },
  {
   "cell_type": "code",
   "execution_count": 18,
   "metadata": {},
   "outputs": [
    {
     "name": "stdout",
     "output_type": "stream",
     "text": [
      "Group1_mean : 30.0\n",
      "Group2_mean : 15.0\n",
      "Grand_mean : 22.5\n"
     ]
    }
   ],
   "source": [
    "# Mean_calculation\n",
    "\n",
    "Group1_mean = np.mean(df['Group1'])\n",
    "Group2_mean = np.mean(df['Group2'])\n",
    "\n",
    "grand_mean = df.sum()[:].sum()/df.size\n",
    "\n",
    "print(\"Group1_mean :\",Group1_mean)\n",
    "print(\"Group2_mean :\",Group2_mean)\n",
    "print(\"Grand_mean :\",grand_mean)"
   ]
  },
  {
   "cell_type": "code",
   "execution_count": 19,
   "metadata": {},
   "outputs": [
    {
     "data": {
      "text/html": [
       "<div>\n",
       "<style scoped>\n",
       "    .dataframe tbody tr th:only-of-type {\n",
       "        vertical-align: middle;\n",
       "    }\n",
       "\n",
       "    .dataframe tbody tr th {\n",
       "        vertical-align: top;\n",
       "    }\n",
       "\n",
       "    .dataframe thead th {\n",
       "        text-align: right;\n",
       "    }\n",
       "</style>\n",
       "<table border=\"1\" class=\"dataframe\">\n",
       "  <thead>\n",
       "    <tr style=\"text-align: right;\">\n",
       "      <th></th>\n",
       "      <th>Group1</th>\n",
       "      <th>Group2</th>\n",
       "    </tr>\n",
       "  </thead>\n",
       "  <tbody>\n",
       "    <tr>\n",
       "      <th>0</th>\n",
       "      <td>156.25</td>\n",
       "      <td>306.25</td>\n",
       "    </tr>\n",
       "    <tr>\n",
       "      <th>1</th>\n",
       "      <td>6.25</td>\n",
       "      <td>156.25</td>\n",
       "    </tr>\n",
       "    <tr>\n",
       "      <th>2</th>\n",
       "      <td>56.25</td>\n",
       "      <td>56.25</td>\n",
       "    </tr>\n",
       "    <tr>\n",
       "      <th>3</th>\n",
       "      <td>306.25</td>\n",
       "      <td>6.25</td>\n",
       "    </tr>\n",
       "    <tr>\n",
       "      <th>4</th>\n",
       "      <td>756.25</td>\n",
       "      <td>6.25</td>\n",
       "    </tr>\n",
       "  </tbody>\n",
       "</table>\n",
       "</div>"
      ],
      "text/plain": [
       "   Group1  Group2\n",
       "0  156.25  306.25\n",
       "1    6.25  156.25\n",
       "2   56.25   56.25\n",
       "3  306.25    6.25\n",
       "4  756.25    6.25"
      ]
     },
     "execution_count": 19,
     "metadata": {},
     "output_type": "execute_result"
    }
   ],
   "source": [
    "df1 = df.apply(lambda x: (x-grand_mean)**2)\n",
    "df1"
   ]
  },
  {
   "cell_type": "code",
   "execution_count": 20,
   "metadata": {},
   "outputs": [
    {
     "name": "stdout",
     "output_type": "stream",
     "text": [
      "Sum of squares total (SST) : 1812.5\n"
     ]
    }
   ],
   "source": [
    "SST = df1.sum()[:].sum()\n",
    "print(\"Sum of squares total (SST) :\",SST)"
   ]
  },
  {
   "cell_type": "code",
   "execution_count": 21,
   "metadata": {},
   "outputs": [
    {
     "name": "stdout",
     "output_type": "stream",
     "text": [
      "Sum of squares between group (SSB) : 562.5\n"
     ]
    }
   ],
   "source": [
    "SSB = 0\n",
    "\n",
    "for i in range(len(np.mean(df))):\n",
    "    SSB += ((np.mean(df)[i] - grand_mean)**2)*len(df.iloc[:,i])\n",
    "    \n",
    "print(\"Sum of squares between group (SSB) :\", SSB)"
   ]
  },
  {
   "cell_type": "code",
   "execution_count": 22,
   "metadata": {},
   "outputs": [
    {
     "name": "stdout",
     "output_type": "stream",
     "text": [
      "Sum of squares within group (SSW) : 1250.0\n"
     ]
    }
   ],
   "source": [
    "# Calculating SSW as we know SST = SSB + SSW\n",
    "SSW = SST - SSB\n",
    "print(\"Sum of squares within group (SSW) :\", SSW)"
   ]
  },
  {
   "cell_type": "code",
   "execution_count": 23,
   "metadata": {},
   "outputs": [
    {
     "name": "stdout",
     "output_type": "stream",
     "text": [
      "The calculated f-ratio is 3.6.\n",
      "The calculated f-ratio should be less than 7.57088209969174 in order to accept null hypothesis.\n"
     ]
    }
   ],
   "source": [
    "# Calculating f-ratio\n",
    "f_ratio_cal = (SSB/Dof_between)/(SSW/Dof_within)\n",
    "\n",
    "# Since in the question 5% level of significance is mentioned\n",
    "f_critical = scipy.stats.f.ppf(1-p/2, dfn = Dof_between, dfd = Dof_within)\n",
    "\n",
    "print(f\"The calculated f-ratio is {f_ratio_cal}.\")\n",
    "print(f\"The calculated f-ratio should be less than {f_critical} in order to accept null hypothesis.\")"
   ]
  },
  {
   "cell_type": "markdown",
   "metadata": {},
   "source": [
    "##### Conclusion\n",
    "The calculated f-ratio(i.e 3.6) is less than f_critical(i.e 7.5708).  \n",
    "Hence the null hypothesis is accepted.  \n",
    "We conclude that at 5% level of significance the population mean of both the groups are same."
   ]
  },
  {
   "cell_type": "markdown",
   "metadata": {},
   "source": [
    "### APA Report"
   ]
  },
  {
   "cell_type": "markdown",
   "metadata": {},
   "source": [
    "###### ANOVA table"
   ]
  },
  {
   "cell_type": "code",
   "execution_count": 24,
   "metadata": {},
   "outputs": [
    {
     "data": {
      "text/html": [
       "<div>\n",
       "<style scoped>\n",
       "    .dataframe tbody tr th:only-of-type {\n",
       "        vertical-align: middle;\n",
       "    }\n",
       "\n",
       "    .dataframe tbody tr th {\n",
       "        vertical-align: top;\n",
       "    }\n",
       "\n",
       "    .dataframe thead th {\n",
       "        text-align: right;\n",
       "    }\n",
       "</style>\n",
       "<table border=\"1\" class=\"dataframe\">\n",
       "  <thead>\n",
       "    <tr style=\"text-align: right;\">\n",
       "      <th></th>\n",
       "      <th>source</th>\n",
       "      <th>SS</th>\n",
       "      <th>df</th>\n",
       "      <th>MS</th>\n",
       "      <th>F</th>\n",
       "    </tr>\n",
       "  </thead>\n",
       "  <tbody>\n",
       "    <tr>\n",
       "      <th>0</th>\n",
       "      <td>group</td>\n",
       "      <td>562.5</td>\n",
       "      <td>1</td>\n",
       "      <td>562.50</td>\n",
       "      <td>3.6</td>\n",
       "    </tr>\n",
       "    <tr>\n",
       "      <th>1</th>\n",
       "      <td>error</td>\n",
       "      <td>1250.0</td>\n",
       "      <td>8</td>\n",
       "      <td>156.25</td>\n",
       "      <td>NaN</td>\n",
       "    </tr>\n",
       "    <tr>\n",
       "      <th>2</th>\n",
       "      <td>total</td>\n",
       "      <td>1812.5</td>\n",
       "      <td>9</td>\n",
       "      <td>201.39</td>\n",
       "      <td>NaN</td>\n",
       "    </tr>\n",
       "  </tbody>\n",
       "</table>\n",
       "</div>"
      ],
      "text/plain": [
       "  source      SS  df      MS    F\n",
       "0  group   562.5   1  562.50  3.6\n",
       "1  error  1250.0   8  156.25  NaN\n",
       "2  total  1812.5   9  201.39  NaN"
      ]
     },
     "execution_count": 24,
     "metadata": {},
     "output_type": "execute_result"
    }
   ],
   "source": [
    "new_data = {\n",
    "    'source' : ['group', 'error', 'total'],\n",
    "    'SS' : [round(SSB,2), round(SSW,2), round(SST,2)],\n",
    "    'df' : [Dof_between, Dof_within, Dof_total],\n",
    "    'MS' : [round(SSB/Dof_between,2), round(SSW/Dof_within,2), round(SST/Dof_total,2)],\n",
    "    'F' : [round(f_ratio_cal,2), np.nan, np.nan]\n",
    "}\n",
    "df2 = pd.DataFrame(new_data)\n",
    "df2"
   ]
  },
  {
   "cell_type": "code",
   "execution_count": 25,
   "metadata": {},
   "outputs": [
    {
     "name": "stdout",
     "output_type": "stream",
     "text": [
      "Effect Size = 0.31\n"
     ]
    }
   ],
   "source": [
    "η2 = round(SSB/SST,2)\n",
    "print(\"Effect Size =\",η2)"
   ]
  },
  {
   "cell_type": "markdown",
   "metadata": {},
   "source": [
    "###### APA Writeup"
   ]
  },
  {
   "cell_type": "markdown",
   "metadata": {},
   "source": [
    "F(2, 12) = 3.6, p < 0.05, η2 = 0.31"
   ]
  }
 ],
 "metadata": {
  "kernelspec": {
   "display_name": "Python 3",
   "language": "python",
   "name": "python3"
  },
  "language_info": {
   "codemirror_mode": {
    "name": "ipython",
    "version": 3
   },
   "file_extension": ".py",
   "mimetype": "text/x-python",
   "name": "python",
   "nbconvert_exporter": "python",
   "pygments_lexer": "ipython3",
   "version": "3.8.5"
  }
 },
 "nbformat": 4,
 "nbformat_minor": 4
}
