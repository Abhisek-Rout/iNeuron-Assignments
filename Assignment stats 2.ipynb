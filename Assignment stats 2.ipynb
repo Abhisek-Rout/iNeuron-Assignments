{
 "cells": [
  {
   "cell_type": "markdown",
   "metadata": {},
   "source": [
    "# Problem 1:"
   ]
  },
  {
   "cell_type": "markdown",
   "metadata": {},
   "source": [
    "In each of the following situations, state whether it is a correctly stated hypothesis\n",
    "testing problem and why?\n",
    "1. 𝐻0: 𝜇 = 25, 𝐻1: 𝜇 ≠ 25\n",
    "2. 𝐻0: 𝜎 > 10, 𝐻1: 𝜎 = 10\n",
    "3. 𝐻0: 𝑥 = 50, 𝐻1: 𝑥 ≠ 50\n",
    "4. 𝐻0: 𝑝 = 0.1, 𝐻1: 𝑝 = 0.5\n",
    "5. 𝐻0: 𝑠 = 30, 𝐻1: 𝑠 > 30"
   ]
  },
  {
   "cell_type": "markdown",
   "metadata": {},
   "source": [
    "##### 1. 𝐻0: 𝜇 = 25, 𝐻1: 𝜇 ≠ 25"
   ]
  },
  {
   "cell_type": "markdown",
   "metadata": {},
   "source": [
    "The above expression is a correctly stated hypothesis for testing problem. Because both the statements are mutually exclusive and covers all the possible scenerios."
   ]
  },
  {
   "cell_type": "markdown",
   "metadata": {},
   "source": [
    "##### 2. 𝐻0: 𝜎 > 10, 𝐻1: 𝜎 = 10"
   ]
  },
  {
   "cell_type": "markdown",
   "metadata": {},
   "source": [
    "The above expression is NOT correctly stated hypothesis for testing problem. Because both the statements are NOT mutually exclusive and  does not cover all the possible scenerios(i.e what to do in case 𝜎 < 10)."
   ]
  },
  {
   "cell_type": "markdown",
   "metadata": {},
   "source": [
    "##### 3. 𝐻0: 𝑥 = 50, 𝐻1: 𝑥 ≠ 50"
   ]
  },
  {
   "cell_type": "markdown",
   "metadata": {},
   "source": [
    "The above expression is a correctly stated hypothesis for testing problem. Because both the statements are mutually exclusive and covers all the possible scenerios."
   ]
  },
  {
   "cell_type": "markdown",
   "metadata": {},
   "source": [
    "##### 4. 𝐻0: 𝑝 = 0.1, 𝐻1: 𝑝 = 0.5"
   ]
  },
  {
   "cell_type": "markdown",
   "metadata": {},
   "source": [
    "The above expression is NOT correctly stated hypothesis for testing problem. Because both the statements are NOT mutually exclusive and  does not cover all the possible scenerios(i.e what to do if p comes out to be a value other than 0.1 or 0.5)."
   ]
  },
  {
   "cell_type": "markdown",
   "metadata": {},
   "source": [
    "##### 5. 𝐻0: 𝑠 = 30, 𝐻1: 𝑠 > 30"
   ]
  },
  {
   "cell_type": "markdown",
   "metadata": {},
   "source": [
    "The above expression is NOT correctly stated hypothesis for testing problem. Because both the statements are NOT mutually exclusive and  does not cover all the possible scenerios.(i.e what to do in case s < 30)."
   ]
  },
  {
   "cell_type": "markdown",
   "metadata": {},
   "source": [
    "# Problem 2:"
   ]
  },
  {
   "cell_type": "markdown",
   "metadata": {},
   "source": [
    "The college bookstore tells prospective students that the average cost of its\n",
    "textbooks is Rs. 52 with a standard deviation of Rs. 4.50. A group of smart statistics\n",
    "students thinks that the average cost is higher. To test the bookstore’s claim against\n",
    "their alternative, the students will select a random sample of size 100. Assume that\n",
    "the mean from their random sample is Rs. 52.80. Perform a hypothesis test at the\n",
    "5% level of significance and state your decision."
   ]
  },
  {
   "cell_type": "code",
   "execution_count": 1,
   "metadata": {},
   "outputs": [],
   "source": [
    "from scipy.stats import norm\n",
    "import math\n",
    "import numpy as np\n",
    "import scipy.stats"
   ]
  },
  {
   "cell_type": "markdown",
   "metadata": {},
   "source": [
    "##### Hypothesis\n",
    "H0 : mean(𝜇) <= Rs. 52  \n",
    "H1 : mean(𝜇) > Rs. 52"
   ]
  },
  {
   "cell_type": "code",
   "execution_count": 2,
   "metadata": {},
   "outputs": [
    {
     "name": "stdout",
     "output_type": "stream",
     "text": [
      "Calculated value of z from sample is 1.7777777777777715\n",
      "Calculated value of z should be less than 1.6448536269514722 in order to accept null hypothesis\n"
     ]
    }
   ],
   "source": [
    "mean = 52\n",
    "std_dev = 4.50\n",
    "\n",
    "sample_mean = 52.80\n",
    "# Sample_std_dev = 𝜎/math.sqrt(sample size)\n",
    "sample_std_dev = std_dev/(math.sqrt(100))\n",
    "\n",
    "z = (sample_mean - mean)/sample_std_dev\n",
    "\n",
    "# Level of significance is 5%. Hence p = 0.05\n",
    "p = 0.05\n",
    "area_on_left = 1-p\n",
    "z_critical = norm.ppf(area_on_left)\n",
    "\n",
    "print(f\"Calculated value of z from sample is {z}\")\n",
    "print(f\"Calculated value of z should be less than {z_critical} in order to accept null hypothesis\")"
   ]
  },
  {
   "cell_type": "markdown",
   "metadata": {},
   "source": [
    "##### Conclusion\n",
    "Since calculated z value (i.e 1.77) is more than critical z value (i.e 1.64).  \n",
    "Hence the null hypothesis is rejected.  \n",
    "There is enough evidence at the 5% level of significance to suggest that the average cost of textbooks is greater than Rs. 52 . "
   ]
  },
  {
   "cell_type": "markdown",
   "metadata": {},
   "source": [
    "# Problem 3:"
   ]
  },
  {
   "cell_type": "markdown",
   "metadata": {},
   "source": [
    "A certain chemical pollutant in the Genesee River has been constant for several\n",
    "years with mean μ = 34 ppm (parts per million) and standard deviation σ = 8 ppm. A\n",
    "group of factory representatives whose companies discharge liquids into the river is\n",
    "now claiming that they have lowered the average with improved filtration devices. A\n",
    "group of environmentalists will test to see if this is true at the 1% level of\n",
    "significance. Assume \\ that their sample of size 50 gives a mean of 32.5 ppm.\n",
    "Perform a hypothesis test at the 1% level of significance and state your decision."
   ]
  },
  {
   "cell_type": "markdown",
   "metadata": {},
   "source": [
    "##### Hypothesis\n",
    "H0 : mean(𝜇) >= 34 ppm  \n",
    "H1 : mean(𝜇) < 34 ppm"
   ]
  },
  {
   "cell_type": "code",
   "execution_count": 3,
   "metadata": {},
   "outputs": [
    {
     "name": "stdout",
     "output_type": "stream",
     "text": [
      "Calculated z value is -1.3258252147247767\n",
      "Calculated value of z should be greater than -2.3263478740408408 in order to accept null hypothesis\n"
     ]
    }
   ],
   "source": [
    "mean = 34\n",
    "std_dev = 8\n",
    "\n",
    "sample_mean = 32.5\n",
    "sample_size = 50\n",
    "sample_std_dev = std_dev/math.sqrt(sample_size)\n",
    "\n",
    "# Calculation of z-value\n",
    "z = (sample_mean-mean)/sample_std_dev\n",
    "\n",
    "# From the problem statement it is a one tail testing on left side of Normal distribution. Level of significance 1%.\n",
    "p = 0.01\n",
    "\n",
    "# Calculation of z_critical.\n",
    "z_critical = norm.ppf(p)\n",
    "\n",
    "print(f\"Calculated z value is {z}\")\n",
    "print(f\"Calculated value of z should be greater than {z_critical} in order to accept null hypothesis\")"
   ]
  },
  {
   "cell_type": "markdown",
   "metadata": {},
   "source": [
    "##### Conclusion\n",
    "Since calculated z value (i.e -1.3258) is more than critical z value (i.e -2.3263).  \n",
    "Hence the null hypothesis is accepted.  \n",
    "There is NOT enough evidence at 1% level of significance to suggest that the mean of chemical pollutant has gone down by using improved filter devices as claimed by group of factory representatives. "
   ]
  },
  {
   "cell_type": "markdown",
   "metadata": {},
   "source": [
    "# Problem 4:"
   ]
  },
  {
   "cell_type": "markdown",
   "metadata": {},
   "source": [
    "Based on population figures and other general information on the U.S. population,\n",
    "suppose it has been estimated that, on average, a family of four in the U.S. spends\n",
    "about $1135 annually on dental expenditures. Suppose further that a regional dental\n",
    "association wants to test to determine if this figure is accurate for their area of\n",
    "country. To test this, 22 families of 4 are randomly selected from the population in\n",
    "that area of the country and a log is kept of the family’s dental expenditure for one\n",
    "year. The resulting data are given below. Assuming, that dental expenditure is\n",
    "normally distributed in the population, use the data and an alpha of 0.05 to test the\n",
    "dental association’s hypothesis.  \n",
    "1008, 812, 1117, 1323, 1308, 1415, 831, 1021, 1287, 851, 930, 730, 699,\n",
    "872, 913, 944, 954, 987, 1695, 995, 1003, 994"
   ]
  },
  {
   "cell_type": "markdown",
   "metadata": {},
   "source": [
    "##### Hypothesis\n",
    "H0 : mean(𝜇) = \\\\$1135  \n",
    "H1 : mean(𝜇) != \\\\$1135"
   ]
  },
  {
   "cell_type": "code",
   "execution_count": 4,
   "metadata": {},
   "outputs": [
    {
     "name": "stdout",
     "output_type": "stream",
     "text": [
      "The calculated t-value is -2.070747228595759\n",
      "The calculated t-value should lie between -2.079613844727662 and 2.079613844727662 in order to accept null hypothesis.\n"
     ]
    }
   ],
   "source": [
    "mean = 1135\n",
    "\n",
    "# Since the standard deviation is not mentioned for the population data we will use the t-test here for hypothesis testing.\n",
    "dental_expenditure = [1008, 812, 1117, 1323, 1308, 1415, 831, 1021, 1287, 851, 930, 730, 699, 872, 913, 944, 954, 987, 1695, 995, 1003, 994]\n",
    "\n",
    "sample_mean = np.mean(dental_expenditure)\n",
    "std_dev = np.std(dental_expenditure)\n",
    "sample_size = len(dental_expenditure)\n",
    "\n",
    "sample_std_dev = std_dev/math.sqrt(sample_size)\n",
    "\n",
    "# Calculated t-value\n",
    "t = (sample_mean - mean)/sample_std_dev\n",
    "\n",
    "# Degrees of freedom\n",
    "df = sample_size - 1\n",
    "\n",
    "# Calculation of critical t-value for 0.05 level of significance and degree of freedom.\n",
    "p = 0.05\n",
    "t_critical = scipy.stats.t.ppf(q = 1-p/2, df = df)\n",
    "\n",
    "print(f\"The calculated t-value is {t}\")\n",
    "print(f\"The calculated t-value should lie between {-t_critical} and {t_critical} in order to accept null hypothesis.\")"
   ]
  },
  {
   "cell_type": "markdown",
   "metadata": {},
   "source": [
    "##### Conclusion\n",
    "Since calculated t-value (i.e -2.07074) lie between -2.0796 and 2.0796.  \n",
    "Hence the null hypothesis is accepted.  \n",
    "There is NOT enough evidence at 5% level of significance that dental expenditure mean of US population will not fit for the locality taken into consideration. "
   ]
  },
  {
   "cell_type": "markdown",
   "metadata": {},
   "source": [
    "# Problem 5:"
   ]
  },
  {
   "cell_type": "markdown",
   "metadata": {},
   "source": [
    "In a report prepared by the Economic Research Department of a major bank the\n",
    "Department manager maintains that the average annual family income on Metropolis is \\\\$48,432. What do you conclude about the validity of the report if a random sample of 400 families shows and average income of \\\\$48,574 with a standard deviation of 2000?"
   ]
  },
  {
   "cell_type": "markdown",
   "metadata": {},
   "source": [
    "##### Hypothesis\n",
    "H0 : mean(𝜇) = \\\\$48432  \n",
    "H1 : mean(𝜇) != \\\\$48432"
   ]
  },
  {
   "cell_type": "code",
   "execution_count": 5,
   "metadata": {},
   "outputs": [
    {
     "name": "stdout",
     "output_type": "stream",
     "text": [
      "The calculated z-value is 1.42.\n",
      "The expected value of z should be between -1.959963984540054 and 1.959963984540054 in order to accept the null hypothesis.\n"
     ]
    }
   ],
   "source": [
    "mean = 48432\n",
    "std_dev = 2000\n",
    "\n",
    "sample_size = 400\n",
    "sample_mean = 48574\n",
    "sample_std_dev = std_dev/math.sqrt(sample_size)\n",
    "\n",
    "#Calculating the z-value\n",
    "z = (sample_mean - mean)/sample_std_dev\n",
    "\n",
    "#Calculating the zcritical for 5% level of significance in a two-tail testing\n",
    "p = 0.05\n",
    "z_critical = norm.ppf(1-0.05/2)\n",
    "\n",
    "print(f\"The calculated z-value is {z}.\")\n",
    "print(f\"The expected value of z should be between {-z_critical} and {z_critical} in order to accept the null hypothesis.\")"
   ]
  },
  {
   "cell_type": "markdown",
   "metadata": {},
   "source": [
    "##### Conclusion\n",
    "Since calculated z-value (i.e 1.42) lie between -1.9599 and 1.9599.  \n",
    "Hence the null hypothesis is accepted.  \n",
    "There is NOT enough evidence at 5% level of significance that the average annual family income on Metropolis deviates from \\\\$48,432 . "
   ]
  },
  {
   "cell_type": "markdown",
   "metadata": {},
   "source": [
    "# Problem 6:"
   ]
  },
  {
   "cell_type": "markdown",
   "metadata": {},
   "source": [
    "Suppose that in past years the average price per square foot for warehouses in the\n",
    "United States has been \\\\$32.28. A national real estate investor wants to determine\n",
    "whether that figure has changed now. The investor hires a researcher who randomly\n",
    "samples 19 warehouses that are for sale across the United States and finds that the\n",
    "mean price per square foot is \\\\$31.67, with a standard deviation of \\\\$1.29. assume\n",
    "that the prices of warehouse footage are normally distributed in population. If the\n",
    "researcher uses a 5% level of significance, what statistical conclusion can be\n",
    "reached? What are the hypotheses?"
   ]
  },
  {
   "cell_type": "markdown",
   "metadata": {},
   "source": [
    "##### Hypothesis\n",
    "H0 : mean(𝜇) = \\\\$32.28   \n",
    "H1 : mean(𝜇) != \\\\$32.28"
   ]
  },
  {
   "cell_type": "code",
   "execution_count": 6,
   "metadata": {},
   "outputs": [
    {
     "name": "stdout",
     "output_type": "stream",
     "text": [
      "The calculated z-value is -2.06118477175179\n",
      "The calculated z-value should lie between 1.959963984540054 and -1.959963984540054 in order to accept the null hypothesis.\n"
     ]
    }
   ],
   "source": [
    "mean = 32.28\n",
    "std_dev = 1.29\n",
    "\n",
    "sample_size = 19\n",
    "sample_mean = 31.67\n",
    "sample_std_dev = std_dev/math.sqrt(sample_size)\n",
    "\n",
    "# z-calculated value\n",
    "z = (sample_mean-mean)/sample_std_dev\n",
    "\n",
    "# Here the level of significance is 5%.\n",
    "p=0.05\n",
    "z_critical = norm.ppf(1-0.05/2)\n",
    "\n",
    "print(f\"The calculated z-value is {z}\")\n",
    "print(f\"The calculated z-value should lie between {z_critical} and {-z_critical} in order to accept the null hypothesis.\")"
   ]
  },
  {
   "cell_type": "markdown",
   "metadata": {},
   "source": [
    "##### Conclusion\n",
    "Since calculated z-value (i.e -2.0611) does NOT lie between -1.9599 and 1.9599  \n",
    "Hence the null hypothesis is rejected.  \n",
    "There is enough evidence at 5% level of significance that the average price per square foot for warehouses in the United States is NOT $32.28."
   ]
  },
  {
   "cell_type": "markdown",
   "metadata": {},
   "source": [
    "# Problem 7:"
   ]
  },
  {
   "cell_type": "markdown",
   "metadata": {},
   "source": [
    "Fill in the blank spaces in the table and draw your conclusions from it."
   ]
  },
  {
   "cell_type": "markdown",
   "metadata": {},
   "source": [
    "##### a) Acceptance Region : 48.5 < x̄ < 51.5 , Sample size = 10"
   ]
  },
  {
   "cell_type": "markdown",
   "metadata": {},
   "source": [
    "###### α \n",
    "This Question has insufficient data it's NOT possible to find alpha without the help of standard deviation.    \n",
    "In order to find alpha value we require:    \n",
    "a) Acceptance region (Given in Q)  \n",
    "b) Sample size (Given in Q)  \n",
    "c) Standard deviation (NOT Given)  \n",
    "\n",
    "Let me explain how standard deviation will help in finding α :  \n",
    "    Let's say std_dev = 21  \n",
    "    mean = (48.5 + 51.5)/2  \n",
    "         = 50  \n",
    "    sample_size = 10  \n",
    "    \n",
    "    z = (48.5 - mean)/(std_dev/math.sqrt(sample_size))\n",
    "    z = (48.5- 50)/(21/math.sqrt(10))\n",
    "    z = -0.2258\n",
    "    \n",
    "For finding alpha value we are multiplying by 2 becoz its a two tail test:  \n",
    "    α = 2 * norm.cdf(z)  \n",
    "      = 0.8212\n",
    "###### β at μ = 52\n",
    "\n",
    "\n",
    "###### β at μ = 50.5"
   ]
  },
  {
   "cell_type": "markdown",
   "metadata": {},
   "source": [
    "# Problem 8:"
   ]
  },
  {
   "cell_type": "markdown",
   "metadata": {},
   "source": [
    "Find the t-score for a sample size of 16 taken from a population with mean 10 when\n",
    "the sample mean is 12 and the sample standard deviation is 1.5."
   ]
  },
  {
   "cell_type": "code",
   "execution_count": 7,
   "metadata": {},
   "outputs": [
    {
     "name": "stdout",
     "output_type": "stream",
     "text": [
      "The t-score of the above data is 5.333333333333333\n"
     ]
    }
   ],
   "source": [
    "mean = 10\n",
    "\n",
    "sample_size = 16\n",
    "sample_mean = 12\n",
    "sample_std_dev = 1.5\n",
    "\n",
    "t = (sample_mean - mean)/(sample_std_dev/math.sqrt(sample_size))\n",
    "\n",
    "print(f\"The t-score of the above data is {t}\")"
   ]
  },
  {
   "cell_type": "markdown",
   "metadata": {},
   "source": [
    "# Problem 9:"
   ]
  },
  {
   "cell_type": "markdown",
   "metadata": {},
   "source": [
    "Find the t-score below which we can expect 99% of sample means will fall if samples\n",
    "of size 16 are taken from a normally distributed population."
   ]
  },
  {
   "cell_type": "code",
   "execution_count": 8,
   "metadata": {},
   "outputs": [
    {
     "name": "stdout",
     "output_type": "stream",
     "text": [
      "The t-score of the above data is 2.602480294995493\n"
     ]
    }
   ],
   "source": [
    "# Level of significance is 1%\n",
    "p = 0.01\n",
    "\n",
    "sample_size = 16\n",
    "\n",
    "t = scipy.stats.t.ppf(q = 1-p, df= sample_size-1)\n",
    "\n",
    "print(f\"The t-score of the above data is {t}\")"
   ]
  },
  {
   "cell_type": "markdown",
   "metadata": {},
   "source": [
    "# Problem 10:"
   ]
  },
  {
   "cell_type": "markdown",
   "metadata": {},
   "source": [
    "If a random sample of size 25 drawn from a normal population gives a mean of 60\n",
    "and a standard deviation of 4, find the range of t-scores where we can expect to find\n",
    "the middle 95% of all sample means. Compute the probability that (−𝑡0.05 <𝑡<𝑡0.10)."
   ]
  },
  {
   "cell_type": "code",
   "execution_count": 9,
   "metadata": {},
   "outputs": [
    {
     "name": "stdout",
     "output_type": "stream",
     "text": [
      "The value of t-score to find the middle 95% of all sample means is between -2.063898561628021 and 2.063898561628021\n"
     ]
    }
   ],
   "source": [
    "sample_size = 25\n",
    "\n",
    "mean = 60 \n",
    "std_dev = 4\n",
    "\n",
    "sample_std_dev = std_dev/math.sqrt(sample_size)\n",
    "\n",
    "# Confidence interval is 95%. Hence level of significance is 5%\n",
    "p = 0.05\n",
    "\n",
    "t_critical = scipy.stats.t.ppf(q = p/2, df = sample_size-1)\n",
    "\n",
    "print(f\"The value of t-score to find the middle 95% of all sample means is between {t_critical} and {-t_critical}\")"
   ]
  },
  {
   "cell_type": "markdown",
   "metadata": {},
   "source": [
    "##### P(−𝑡0.05 <𝑡<𝑡0.10)"
   ]
  },
  {
   "cell_type": "code",
   "execution_count": 10,
   "metadata": {},
   "outputs": [
    {
     "name": "stdout",
     "output_type": "stream",
     "text": [
      "Probability that (−𝑡0.05 <𝑡<𝑡0.10) is 0.05914441613731247\n"
     ]
    }
   ],
   "source": [
    "# Probability of normal distribution curve from left till t = -0.05\n",
    "a1 = scipy.stats.t.cdf(-0.05, df = sample_size-1)\n",
    "\n",
    "# Probability of normal distribution curve from left till t = 0.10\n",
    "a2 = scipy.stats.t.cdf(0.10, df = sample_size-1)\n",
    "\n",
    "probability = a2 - a1\n",
    "\n",
    "print(f\"Probability that (−𝑡0.05 <𝑡<𝑡0.10) is {probability}\")"
   ]
  },
  {
   "cell_type": "markdown",
   "metadata": {},
   "source": [
    "# Problem 11:"
   ]
  },
  {
   "cell_type": "markdown",
   "metadata": {},
   "source": [
    "Two-tailed test for difference between two population means\n",
    "Is there evidence to conclude that the number of people travelling from Bangalore to\n",
    "Chennai is different from the number of people travelling from Bangalore to Hosur in\n",
    "a week, given the following:  \n",
    "Population 1: Bangalore to Chennai n1 = 1200  \n",
    "x1 = 452  \n",
    "s1 = 212  \n",
    "Population 2: Bangalore to Hosur n2 = 800  \n",
    "x2 = 523  \n",
    "s2 = 185  "
   ]
  },
  {
   "cell_type": "markdown",
   "metadata": {},
   "source": [
    "##### Hypothesis\n",
    "μ1 - mean of population 1  \n",
    "μ2 - mean of population 2   \n",
    "H0 : μ1 = μ2  \n",
    "H1 : μ1 != μ2 "
   ]
  },
  {
   "cell_type": "code",
   "execution_count": 11,
   "metadata": {},
   "outputs": [
    {
     "name": "stdout",
     "output_type": "stream",
     "text": [
      "The calculated z score is 7.926428526759299\n",
      "The z value is expected to lie between -1.9599639845400545 and 1.9599639845400545 in order to reject the null hypothesis.\n"
     ]
    }
   ],
   "source": [
    "# Bangalore to Chennai\n",
    "\n",
    "# sample size\n",
    "n1 = 1200\n",
    "# sample mean\n",
    "x1 = 452\n",
    "# sample std deviation\n",
    "s1 = 212\n",
    "\n",
    "# Bangalore to Hosur\n",
    "\n",
    "# sample size\n",
    "n2 = 800\n",
    "# sample mean\n",
    "x2 = 523\n",
    "# sample std deviation\n",
    "s2 = 185\n",
    "\n",
    "standard_error = math.sqrt(s1**2/n1 + s2**2/n2)\n",
    "\n",
    "z_calculated = (x2-x1)/standard_error\n",
    "\n",
    "# Considering 5% level of siginificance\n",
    "p = 0.05\n",
    "z_critical = norm.ppf(p/2)\n",
    "\n",
    "print(f\"The calculated z score is {z_calculated}\")\n",
    "print(f\"The z value is expected to lie between {z_critical} and {-z_critical} in order to reject the null hypothesis.\")"
   ]
  },
  {
   "cell_type": "markdown",
   "metadata": {},
   "source": [
    "##### Conclusion\n",
    "Since calculated z-value (i.e 7.9264) does NOT lie between -1.9599 and 1.9599.  \n",
    "Hence the null hypothesis is rejected.  \n",
    "There is enough evidence at 5% level of significance that the two population means are not the same."
   ]
  },
  {
   "cell_type": "markdown",
   "metadata": {},
   "source": [
    "# Problem 12:"
   ]
  },
  {
   "cell_type": "markdown",
   "metadata": {},
   "source": [
    "Is there evidence to conclude that the number of people preferring Duracell battery is\n",
    "different from the number of people preferring Energizer battery, given the following:  \n",
    "Population 1: Duracell  \n",
    "n1 = 100  \n",
    "x1 = 308  \n",
    "s1 = 84  \n",
    "Population 2: Energizer  \n",
    "n2 = 100  \n",
    "x2 = 254  \n",
    "s2 = 67  "
   ]
  },
  {
   "cell_type": "markdown",
   "metadata": {},
   "source": [
    "##### Hypothesis\n",
    "μ1 - mean of population preferring Duracell battery  \n",
    "μ2 - mean of population preferring Energizer battery  \n",
    "H0 : μ1 = μ2  \n",
    "H1 : μ1 != μ2 "
   ]
  },
  {
   "cell_type": "code",
   "execution_count": 12,
   "metadata": {},
   "outputs": [
    {
     "name": "stdout",
     "output_type": "stream",
     "text": [
      "The calculated z score is -5.025702668336442\n",
      "The calculated z value should lie between -1.9599639845400545 and 1.9599639845400545 in order to accept the null hypothesis.\n"
     ]
    }
   ],
   "source": [
    "# Population preferring Duraccell battery\n",
    "\n",
    "# sample size\n",
    "n1 = 100\n",
    "# sample mean\n",
    "x1 = 308\n",
    "# sample std deviation\n",
    "s1 = 84\n",
    "\n",
    "# Population preferring Energizer battery\n",
    "\n",
    "# sample size\n",
    "n2 = 100\n",
    "# sample mean\n",
    "x2 = 254\n",
    "# sample std deviation\n",
    "s2 = 67\n",
    "\n",
    "standard_error = math.sqrt(s1**2/n1 + s2**2/n2)\n",
    "\n",
    "z_calculated = (x2-x1)/standard_error\n",
    "\n",
    "# Considering 5% level of siginificance\n",
    "p = 0.05\n",
    "z_critical = norm.ppf(p/2)\n",
    "\n",
    "print(f\"The calculated z score is {z_calculated}\")\n",
    "print(f\"The calculated z value should lie between {z_critical} and {-z_critical} in order to accept the null hypothesis.\")"
   ]
  },
  {
   "cell_type": "markdown",
   "metadata": {},
   "source": [
    "##### Conclusion\n",
    "Since calculated z-value (i.e -5.0257) does NOT lie between -1.9599 and 1.9599.  \n",
    "Hence the null hypothesis is rejected.  \n",
    "There is enough evidence at 5% level of significance to prove that the two population preferring different battery are not the same."
   ]
  },
  {
   "cell_type": "markdown",
   "metadata": {},
   "source": [
    "# Problem 13:"
   ]
  },
  {
   "cell_type": "markdown",
   "metadata": {},
   "source": [
    "Pooled estimate of the population variance\n",
    "Does the data provide sufficient evidence to conclude that average percentage\n",
    "increase in the price of sugar differs when it is sold at two different prices?  \n",
    "Population 1: Price of sugar = Rs. 27.50 n1 = 14  \n",
    "x1 = 0.317%  \n",
    "s1 = 0.12%  \n",
    "Population 2: Price of sugar = Rs. 20.00 n2 = 9  \n",
    "x2 = 0.21%  \n",
    "s2 = 0.11%  "
   ]
  },
  {
   "cell_type": "markdown",
   "metadata": {},
   "source": [
    "##### Hypothesis\n",
    "μ1 - mean price of sugar at Place A  \n",
    "μ2 - mean price of sugar at Place B  \n",
    "H0 : μ1 = μ2  \n",
    "H1 : μ1 != μ2 "
   ]
  },
  {
   "cell_type": "code",
   "execution_count": 13,
   "metadata": {},
   "outputs": [
    {
     "name": "stdout",
     "output_type": "stream",
     "text": [
      "The calculated t_score from the above information is 2.15355322387416\n",
      "The calculated t_score should lie between -2.0796138447276626 and 2.0796138447276626 in order to accept the null hypothesis.\n"
     ]
    }
   ],
   "source": [
    "# Information related to place A\n",
    "\n",
    "# Sample size\n",
    "n1 = 14\n",
    "# Mean increase\n",
    "x1 = 0.317\n",
    "# Sample std_dev\n",
    "s1 = 0.12\n",
    "\n",
    "# Information related to place B\n",
    "\n",
    "# Sample size\n",
    "n2 = 9\n",
    "# Mean increase\n",
    "x2 = 0.21\n",
    "# Sample std_dev\n",
    "s2 = 0.11\n",
    "\n",
    "# From the above we can conclude that we need to perform two sample t-test since sample size is less.\n",
    "\n",
    "#std_dev\n",
    "numerator = (n1-1)*(s1**2) + (n2-1)*(s2**2)\n",
    "denominator = n1 + n2 - 2\n",
    "\n",
    "std_dev = math.sqrt(numerator/denominator)\n",
    "\n",
    "standard_error = std_dev*(math.sqrt(1/n1 + 1/n2))\n",
    "\n",
    "t_score = (x1 - x2)/standard_error\n",
    "\n",
    "# Considering 5% level of significance in this two-tailed test.\n",
    "p = 0.05\n",
    "t_critical = scipy.stats.t.ppf(p/2, df = n1+n2-2)\n",
    "\n",
    "print(f\"The calculated t_score from the above information is {t_score}\")\n",
    "print(f\"The calculated t_score should lie between {t_critical} and {-t_critical} in order to accept the null hypothesis.\")"
   ]
  },
  {
   "cell_type": "markdown",
   "metadata": {},
   "source": [
    "##### Conclusion\n",
    "Since calculated z-value (i.e -2.1535) does NOT lie between -2.0796 and 2.0796.  \n",
    "Hence the null hypothesis is rejected.  \n",
    "There is enough evidence at 5% level of significance that average percentage increase in the price of sugar differs when it is sold at two different prices."
   ]
  },
  {
   "cell_type": "markdown",
   "metadata": {},
   "source": [
    "# Problem 14:"
   ]
  },
  {
   "cell_type": "markdown",
   "metadata": {},
   "source": [
    "The manufacturers of compact disk players want to test whether a small price\n",
    "reduction is enough to increase sales of their product. Is there evidence that the\n",
    "small price reduction is enough to increase sales of compact disk players?  \n",
    "Population 1: Before reduction  \n",
    "n1 = 15  \n",
    "x1 = Rs. 6598  \n",
    "s1 = Rs. 844  \n",
    "Population 2: After reduction  \n",
    "n2 = 12  \n",
    "x2 = RS. 6870  \n",
    "s2 = Rs. 669  "
   ]
  },
  {
   "cell_type": "markdown",
   "metadata": {},
   "source": [
    "##### Hypothesis\n",
    "μ1 - mean of sales of population 1  \n",
    "μ2 - mean of sales of population 2  \n",
    "H0 : μ2 - μ1 <= 0  \n",
    "H1 : μ2 - μ1 > 0 "
   ]
  },
  {
   "cell_type": "code",
   "execution_count": 14,
   "metadata": {},
   "outputs": [
    {
     "name": "stdout",
     "output_type": "stream",
     "text": [
      "The calculated t_score from the above information is 0.9098300343990459\n",
      "The calculated t_score should be less than 1.7081407612518986 in order to accept the null hypothesis.\n"
     ]
    }
   ],
   "source": [
    "# Information related to sale before reduction\n",
    "\n",
    "# Sample size\n",
    "n1 = 15\n",
    "# Mean increase\n",
    "x1 = 6598\n",
    "# Sample std_dev\n",
    "s1 = 844\n",
    "\n",
    "# Information related to sale after reduction\n",
    "\n",
    "# Sample size\n",
    "n2 = 12\n",
    "# Mean increase\n",
    "x2 = 6870\n",
    "# Sample std_dev\n",
    "s2 = 669\n",
    "\n",
    "# From the above we can conclude that we need to perform two sample t-test since sample size is less.\n",
    "\n",
    "#std_dev\n",
    "numerator = (n1-1)*(s1**2) + (n2-1)*(s2**2)\n",
    "denominator = n1 + n2 - 2\n",
    "\n",
    "std_dev = math.sqrt(numerator/denominator)\n",
    "\n",
    "standard_error = std_dev*(math.sqrt(1/n1 + 1/n2))\n",
    "\n",
    "t_score = (x2 - x1)/standard_error\n",
    "\n",
    "# Considering 5% level of significance in this two-tailed test.\n",
    "p = 0.05\n",
    "t_critical = scipy.stats.t.ppf(1-p, df = n1+n2-2)\n",
    "\n",
    "print(f\"The calculated t_score from the above information is {t_score}\")\n",
    "print(f\"The calculated t_score should be less than {t_critical} in order to accept the null hypothesis.\")"
   ]
  },
  {
   "cell_type": "markdown",
   "metadata": {},
   "source": [
    "##### Conclusion\n",
    "Since calculated t-value (i.e 0.9098) is less than critical t_score (i.e 1.70814)  \n",
    "Hence the null hypothesis is accepted.  \n",
    "There is NOT enough evidence at 5% level of significance that the sales are affeccted by reduction in price."
   ]
  },
  {
   "cell_type": "markdown",
   "metadata": {},
   "source": [
    "# Problem 15:"
   ]
  },
  {
   "cell_type": "markdown",
   "metadata": {},
   "source": [
    "Comparisons of two population proportions when the hypothesized difference is zero\n",
    "Carry out a two-tailed test of the equality of banks’ share of the car loan market in\n",
    "1980 and 1995.  \n",
    "Population 1: 1980  \n",
    "n1 = 1000  \n",
    "x1 = 53  \n",
    "𝑝 1 = 0.53  \n",
    "Population 2: 1985  \n",
    "n2 = 100  \n",
    "x2 = 43  \n",
    "𝑝 2= 0.53  "
   ]
  },
  {
   "cell_type": "markdown",
   "metadata": {},
   "source": [
    "##### Hypothesis\n",
    "μ1 - sample proportion of population 1   \n",
    "μ2 - sample proportion of population 2  \n",
    "H0 : μ2 - μ1 = 0    \n",
    "H1 : μ2 - μ1 != 0    "
   ]
  },
  {
   "cell_type": "code",
   "execution_count": 15,
   "metadata": {},
   "outputs": [
    {
     "name": "stdout",
     "output_type": "stream",
     "text": [
      "The calculated z-score is 0.0\n",
      "The calculated z-score should lie between -1.9599639845400545 and 1.9599639845400545 in order to accept the null hypothesis.\n"
     ]
    }
   ],
   "source": [
    "# Population 1: 1980  \n",
    "\n",
    "# sample size\n",
    "n1 = 1000  \n",
    "# sample mean\n",
    "x1 = 53  \n",
    "# sample standard deviation\n",
    "𝑝1 = 0.53  \n",
    "\n",
    "# Population 2: 1985  \n",
    "\n",
    "# sample size\n",
    "n2 = 100  \n",
    "# sample mean\n",
    "x2 = 43  \n",
    "# sample standard deviation\n",
    "𝑝2 = 0.53\n",
    "\n",
    "combined_proportion = (x1 + x2)/(n1 + n2)\n",
    "\n",
    "standard_error = math.sqrt(combined_proportion*(1-combined_proportion)*(1/n1 + 1/n2))\n",
    "\n",
    "z_calculated = (p1 - p2)/standard_error\n",
    "\n",
    "# Considering 5% level of siginificance\n",
    "p = 0.05\n",
    "z_critical = norm.ppf(p/2)\n",
    "\n",
    "print(f\"The calculated z-score is {z_calculated}\")\n",
    "print(f\"The calculated z-score should lie between {z_critical} and {-z_critical} in order to accept the null hypothesis.\")"
   ]
  },
  {
   "cell_type": "markdown",
   "metadata": {},
   "source": [
    "##### Conclusion\n",
    "Since calculated t-value (i.e 0.0) is lies between -1.9599 and 1.9599.  \n",
    "Hence the null hypothesis is accepted.  \n",
    "There is NOT enough evidence at 5% level of significance that there is no statistically significant difference between bank shares in car loan."
   ]
  },
  {
   "cell_type": "markdown",
   "metadata": {},
   "source": [
    "# Problem 16: "
   ]
  },
  {
   "cell_type": "markdown",
   "metadata": {},
   "source": [
    "Carry out a one-tailed test to determine whether the population proportion of\n",
    "traveler’s check buyers who buy at least $2500 in checks when sweepstakes prizes\n",
    "are offered as at least 10% higher than the proportion of such buyers when no\n",
    "sweepstakes are on.  \n",
    "Population 1: With sweepstakes  \n",
    "n1 = 300  \n",
    "x1 = 120  \n",
    "𝑝1 = 0.40  \n",
    "Population 2: No sweepstakes  \n",
    "n2 = 700  \n",
    "x2 = 140  \n",
    "𝑝2= 0.20  "
   ]
  },
  {
   "cell_type": "markdown",
   "metadata": {},
   "source": [
    "##### Hypothesis\n",
    "μ1 - sample proportion of population 1   \n",
    "μ2 - sample proportion of population 2  \n",
    "H0 : μ2 - μ1 <= 0.10    \n",
    "H1 : μ2 - μ1 >  0.10"
   ]
  },
  {
   "cell_type": "code",
   "execution_count": 16,
   "metadata": {},
   "outputs": [
    {
     "name": "stdout",
     "output_type": "stream",
     "text": [
      "The calculated value of z_score is 3.1180478223116177\n",
      "The calculated z value should be less than 1.6448536269514722 in order to accept the null hypothesis.\n"
     ]
    }
   ],
   "source": [
    "# Population 1:With Sweepstakes\n",
    "\n",
    "# sample size\n",
    "n1 = 300\n",
    "# sample mean\n",
    "x1 = 120\n",
    "# sample proportion\n",
    "p1 = 0.40\n",
    "\n",
    "# Population 2: Without Sweepstakes\n",
    "\n",
    "# sample size\n",
    "n2 = 700\n",
    "# sample mean\n",
    "x2 = 140\n",
    "# sample proportion\n",
    "p2 = 0.2\n",
    "\n",
    "# From hypothesis\n",
    "D = 0.10\n",
    "\n",
    "standard_error = math.sqrt(p1*(1-p1)/n1 + p2*(1-p2)/n2)\n",
    "\n",
    "z_score = ((p1 - p2) - D) / standard_error\n",
    "\n",
    "# Considering 5% level of significance\n",
    "p = 0.05\n",
    "z_critical = norm.ppf(1-p)\n",
    "\n",
    "print(f\"The calculated value of z_score is {z_score}\")\n",
    "print(f\"The calculated z value should be less than {z_critical} in order to accept the null hypothesis.\")"
   ]
  },
  {
   "cell_type": "markdown",
   "metadata": {},
   "source": [
    "##### Conclusion\n",
    "Since calculated t-value (i.e 3.1118) is more than the z_critical (i.e 1.6448).  \n",
    "Hence the null hypothesis is rejected.  \n",
    "There is enough evidence at 5% level of significance that the proportion of customers buying atleast $2500 of travelers checks is atleast 10% higher when sweepstakes are on."
   ]
  },
  {
   "cell_type": "markdown",
   "metadata": {},
   "source": [
    "# Problem 17:"
   ]
  },
  {
   "cell_type": "markdown",
   "metadata": {},
   "source": [
    "A die is thrown 132 times with the following results: Number turned up: 1, 2, 3, 4, 5, 6\n",
    "Frequency: 16, 20, 25, 14, 29, 28\n",
    "Is the die unbiased? Consider the degrees of freedom as 𝑝 − 1."
   ]
  },
  {
   "cell_type": "code",
   "execution_count": 17,
   "metadata": {},
   "outputs": [],
   "source": [
    "import numpy as np\n",
    "import pandas as pd"
   ]
  },
  {
   "cell_type": "code",
   "execution_count": 18,
   "metadata": {},
   "outputs": [
    {
     "data": {
      "text/html": [
       "<div>\n",
       "<style scoped>\n",
       "    .dataframe tbody tr th:only-of-type {\n",
       "        vertical-align: middle;\n",
       "    }\n",
       "\n",
       "    .dataframe tbody tr th {\n",
       "        vertical-align: top;\n",
       "    }\n",
       "\n",
       "    .dataframe thead th {\n",
       "        text-align: right;\n",
       "    }\n",
       "</style>\n",
       "<table border=\"1\" class=\"dataframe\">\n",
       "  <thead>\n",
       "    <tr style=\"text-align: right;\">\n",
       "      <th></th>\n",
       "      <th>Number</th>\n",
       "      <th>Obs_freq(O)</th>\n",
       "    </tr>\n",
       "  </thead>\n",
       "  <tbody>\n",
       "    <tr>\n",
       "      <th>0</th>\n",
       "      <td>1</td>\n",
       "      <td>16</td>\n",
       "    </tr>\n",
       "    <tr>\n",
       "      <th>1</th>\n",
       "      <td>2</td>\n",
       "      <td>20</td>\n",
       "    </tr>\n",
       "    <tr>\n",
       "      <th>2</th>\n",
       "      <td>3</td>\n",
       "      <td>25</td>\n",
       "    </tr>\n",
       "    <tr>\n",
       "      <th>3</th>\n",
       "      <td>4</td>\n",
       "      <td>14</td>\n",
       "    </tr>\n",
       "    <tr>\n",
       "      <th>4</th>\n",
       "      <td>5</td>\n",
       "      <td>29</td>\n",
       "    </tr>\n",
       "    <tr>\n",
       "      <th>5</th>\n",
       "      <td>6</td>\n",
       "      <td>28</td>\n",
       "    </tr>\n",
       "  </tbody>\n",
       "</table>\n",
       "</div>"
      ],
      "text/plain": [
       "   Number  Obs_freq(O)\n",
       "0       1           16\n",
       "1       2           20\n",
       "2       3           25\n",
       "3       4           14\n",
       "4       5           29\n",
       "5       6           28"
      ]
     },
     "execution_count": 18,
     "metadata": {},
     "output_type": "execute_result"
    }
   ],
   "source": [
    "data = {\n",
    "    'Number' : [1, 2, 3, 4, 5, 6],\n",
    "    'Obs_freq(O)' : [16, 20, 25, 14, 29, 28]\n",
    "}\n",
    "df = pd.DataFrame(data)\n",
    "df"
   ]
  },
  {
   "cell_type": "markdown",
   "metadata": {},
   "source": [
    "##### Hypothesis\n",
    "H0 : The die is unbiased.  \n",
    "H1 : The die is biased."
   ]
  },
  {
   "cell_type": "code",
   "execution_count": 19,
   "metadata": {},
   "outputs": [],
   "source": [
    "# Expected frequency for 132 throws\n",
    "exp = 132 / 6"
   ]
  },
  {
   "cell_type": "code",
   "execution_count": 20,
   "metadata": {},
   "outputs": [
    {
     "data": {
      "text/html": [
       "<div>\n",
       "<style scoped>\n",
       "    .dataframe tbody tr th:only-of-type {\n",
       "        vertical-align: middle;\n",
       "    }\n",
       "\n",
       "    .dataframe tbody tr th {\n",
       "        vertical-align: top;\n",
       "    }\n",
       "\n",
       "    .dataframe thead th {\n",
       "        text-align: right;\n",
       "    }\n",
       "</style>\n",
       "<table border=\"1\" class=\"dataframe\">\n",
       "  <thead>\n",
       "    <tr style=\"text-align: right;\">\n",
       "      <th></th>\n",
       "      <th>Number</th>\n",
       "      <th>Obs_freq(O)</th>\n",
       "      <th>Expec_freq(E)</th>\n",
       "    </tr>\n",
       "  </thead>\n",
       "  <tbody>\n",
       "    <tr>\n",
       "      <th>0</th>\n",
       "      <td>1</td>\n",
       "      <td>16</td>\n",
       "      <td>22.0</td>\n",
       "    </tr>\n",
       "    <tr>\n",
       "      <th>1</th>\n",
       "      <td>2</td>\n",
       "      <td>20</td>\n",
       "      <td>22.0</td>\n",
       "    </tr>\n",
       "    <tr>\n",
       "      <th>2</th>\n",
       "      <td>3</td>\n",
       "      <td>25</td>\n",
       "      <td>22.0</td>\n",
       "    </tr>\n",
       "    <tr>\n",
       "      <th>3</th>\n",
       "      <td>4</td>\n",
       "      <td>14</td>\n",
       "      <td>22.0</td>\n",
       "    </tr>\n",
       "    <tr>\n",
       "      <th>4</th>\n",
       "      <td>5</td>\n",
       "      <td>29</td>\n",
       "      <td>22.0</td>\n",
       "    </tr>\n",
       "    <tr>\n",
       "      <th>5</th>\n",
       "      <td>6</td>\n",
       "      <td>28</td>\n",
       "      <td>22.0</td>\n",
       "    </tr>\n",
       "  </tbody>\n",
       "</table>\n",
       "</div>"
      ],
      "text/plain": [
       "   Number  Obs_freq(O)  Expec_freq(E)\n",
       "0       1           16           22.0\n",
       "1       2           20           22.0\n",
       "2       3           25           22.0\n",
       "3       4           14           22.0\n",
       "4       5           29           22.0\n",
       "5       6           28           22.0"
      ]
     },
     "execution_count": 20,
     "metadata": {},
     "output_type": "execute_result"
    }
   ],
   "source": [
    "df['Expec_freq(E)'] = exp\n",
    "df"
   ]
  },
  {
   "cell_type": "code",
   "execution_count": 21,
   "metadata": {},
   "outputs": [
    {
     "data": {
      "text/html": [
       "<div>\n",
       "<style scoped>\n",
       "    .dataframe tbody tr th:only-of-type {\n",
       "        vertical-align: middle;\n",
       "    }\n",
       "\n",
       "    .dataframe tbody tr th {\n",
       "        vertical-align: top;\n",
       "    }\n",
       "\n",
       "    .dataframe thead th {\n",
       "        text-align: right;\n",
       "    }\n",
       "</style>\n",
       "<table border=\"1\" class=\"dataframe\">\n",
       "  <thead>\n",
       "    <tr style=\"text-align: right;\">\n",
       "      <th></th>\n",
       "      <th>Number</th>\n",
       "      <th>Obs_freq(O)</th>\n",
       "      <th>Expec_freq(E)</th>\n",
       "      <th>(O - E)^2</th>\n",
       "    </tr>\n",
       "  </thead>\n",
       "  <tbody>\n",
       "    <tr>\n",
       "      <th>0</th>\n",
       "      <td>1</td>\n",
       "      <td>16</td>\n",
       "      <td>22.0</td>\n",
       "      <td>36.0</td>\n",
       "    </tr>\n",
       "    <tr>\n",
       "      <th>1</th>\n",
       "      <td>2</td>\n",
       "      <td>20</td>\n",
       "      <td>22.0</td>\n",
       "      <td>4.0</td>\n",
       "    </tr>\n",
       "    <tr>\n",
       "      <th>2</th>\n",
       "      <td>3</td>\n",
       "      <td>25</td>\n",
       "      <td>22.0</td>\n",
       "      <td>9.0</td>\n",
       "    </tr>\n",
       "    <tr>\n",
       "      <th>3</th>\n",
       "      <td>4</td>\n",
       "      <td>14</td>\n",
       "      <td>22.0</td>\n",
       "      <td>64.0</td>\n",
       "    </tr>\n",
       "    <tr>\n",
       "      <th>4</th>\n",
       "      <td>5</td>\n",
       "      <td>29</td>\n",
       "      <td>22.0</td>\n",
       "      <td>49.0</td>\n",
       "    </tr>\n",
       "    <tr>\n",
       "      <th>5</th>\n",
       "      <td>6</td>\n",
       "      <td>28</td>\n",
       "      <td>22.0</td>\n",
       "      <td>36.0</td>\n",
       "    </tr>\n",
       "  </tbody>\n",
       "</table>\n",
       "</div>"
      ],
      "text/plain": [
       "   Number  Obs_freq(O)  Expec_freq(E)  (O - E)^2\n",
       "0       1           16           22.0       36.0\n",
       "1       2           20           22.0        4.0\n",
       "2       3           25           22.0        9.0\n",
       "3       4           14           22.0       64.0\n",
       "4       5           29           22.0       49.0\n",
       "5       6           28           22.0       36.0"
      ]
     },
     "execution_count": 21,
     "metadata": {},
     "output_type": "execute_result"
    }
   ],
   "source": [
    "df['(O - E)^2'] = (df['Obs_freq(O)'] - df['Expec_freq(E)'])**2\n",
    "df"
   ]
  },
  {
   "cell_type": "code",
   "execution_count": 22,
   "metadata": {},
   "outputs": [
    {
     "data": {
      "text/html": [
       "<div>\n",
       "<style scoped>\n",
       "    .dataframe tbody tr th:only-of-type {\n",
       "        vertical-align: middle;\n",
       "    }\n",
       "\n",
       "    .dataframe tbody tr th {\n",
       "        vertical-align: top;\n",
       "    }\n",
       "\n",
       "    .dataframe thead th {\n",
       "        text-align: right;\n",
       "    }\n",
       "</style>\n",
       "<table border=\"1\" class=\"dataframe\">\n",
       "  <thead>\n",
       "    <tr style=\"text-align: right;\">\n",
       "      <th></th>\n",
       "      <th>Number</th>\n",
       "      <th>Obs_freq(O)</th>\n",
       "      <th>Expec_freq(E)</th>\n",
       "      <th>(O - E)^2</th>\n",
       "      <th>(O - E)^2/E</th>\n",
       "    </tr>\n",
       "  </thead>\n",
       "  <tbody>\n",
       "    <tr>\n",
       "      <th>0</th>\n",
       "      <td>1</td>\n",
       "      <td>16</td>\n",
       "      <td>22.0</td>\n",
       "      <td>36.0</td>\n",
       "      <td>1.636364</td>\n",
       "    </tr>\n",
       "    <tr>\n",
       "      <th>1</th>\n",
       "      <td>2</td>\n",
       "      <td>20</td>\n",
       "      <td>22.0</td>\n",
       "      <td>4.0</td>\n",
       "      <td>0.181818</td>\n",
       "    </tr>\n",
       "    <tr>\n",
       "      <th>2</th>\n",
       "      <td>3</td>\n",
       "      <td>25</td>\n",
       "      <td>22.0</td>\n",
       "      <td>9.0</td>\n",
       "      <td>0.409091</td>\n",
       "    </tr>\n",
       "    <tr>\n",
       "      <th>3</th>\n",
       "      <td>4</td>\n",
       "      <td>14</td>\n",
       "      <td>22.0</td>\n",
       "      <td>64.0</td>\n",
       "      <td>2.909091</td>\n",
       "    </tr>\n",
       "    <tr>\n",
       "      <th>4</th>\n",
       "      <td>5</td>\n",
       "      <td>29</td>\n",
       "      <td>22.0</td>\n",
       "      <td>49.0</td>\n",
       "      <td>2.227273</td>\n",
       "    </tr>\n",
       "    <tr>\n",
       "      <th>5</th>\n",
       "      <td>6</td>\n",
       "      <td>28</td>\n",
       "      <td>22.0</td>\n",
       "      <td>36.0</td>\n",
       "      <td>1.636364</td>\n",
       "    </tr>\n",
       "  </tbody>\n",
       "</table>\n",
       "</div>"
      ],
      "text/plain": [
       "   Number  Obs_freq(O)  Expec_freq(E)  (O - E)^2  (O - E)^2/E\n",
       "0       1           16           22.0       36.0     1.636364\n",
       "1       2           20           22.0        4.0     0.181818\n",
       "2       3           25           22.0        9.0     0.409091\n",
       "3       4           14           22.0       64.0     2.909091\n",
       "4       5           29           22.0       49.0     2.227273\n",
       "5       6           28           22.0       36.0     1.636364"
      ]
     },
     "execution_count": 22,
     "metadata": {},
     "output_type": "execute_result"
    }
   ],
   "source": [
    "df['(O - E)^2/E'] = df['(O - E)^2']/df['Expec_freq(E)']\n",
    "df"
   ]
  },
  {
   "cell_type": "code",
   "execution_count": 23,
   "metadata": {},
   "outputs": [
    {
     "name": "stdout",
     "output_type": "stream",
     "text": [
      "The calculated chi square value is 9.0.\n",
      "The  calculated chi square value should be less than 11.070497693516351 in order to accept the null hypothesis.\n"
     ]
    }
   ],
   "source": [
    "chi_calculated = df['(O - E)^2/E'].sum()\n",
    "\n",
    "#Degree of freedom\n",
    "Dof = df['Number'].count() - 1\n",
    "\n",
    "# Expected chi_square value at 5% level of significance one-tail testing\n",
    "chi_expected = scipy.stats.chi2.ppf(1-0.05, df = Dof)\n",
    "\n",
    "print(f\"The calculated chi square value is {chi_calculated}.\")\n",
    "print(f\"The  calculated chi square value should be less than {chi_expected} in order to accept the null hypothesis.\")"
   ]
  },
  {
   "cell_type": "markdown",
   "metadata": {},
   "source": [
    "###### Conclusion\n",
    "Since calculated t-value (i.e 9.0) is less than the z_critical (i.e 11.0704).  \n",
    "Hence the null hypothesis is accepted.  \n",
    "There is NOT enough evidence at 5% level of significance in order to prove the die is biased."
   ]
  },
  {
   "cell_type": "markdown",
   "metadata": {},
   "source": [
    "# Problem 18:"
   ]
  },
  {
   "cell_type": "markdown",
   "metadata": {},
   "source": [
    "In a certain town, there are about one million eligible voters. A simple random\n",
    "sample of 10,000 eligible voters was chosen to study the relationship between\n",
    "gender and participation in the last election. The results are summarized in the\n",
    "following 2X2 (read two by two) contingency table:  \n",
    "We would want to check whether being a man or a woman (columns) is independent of\n",
    "having voted in the last election (rows). In other words, is “gender and voting independent”?"
   ]
  },
  {
   "cell_type": "code",
   "execution_count": 24,
   "metadata": {},
   "outputs": [
    {
     "data": {
      "text/html": [
       "<div>\n",
       "<style scoped>\n",
       "    .dataframe tbody tr th:only-of-type {\n",
       "        vertical-align: middle;\n",
       "    }\n",
       "\n",
       "    .dataframe tbody tr th {\n",
       "        vertical-align: top;\n",
       "    }\n",
       "\n",
       "    .dataframe thead th {\n",
       "        text-align: right;\n",
       "    }\n",
       "</style>\n",
       "<table border=\"1\" class=\"dataframe\">\n",
       "  <thead>\n",
       "    <tr style=\"text-align: right;\">\n",
       "      <th></th>\n",
       "      <th>Status</th>\n",
       "      <th>Men</th>\n",
       "      <th>Women</th>\n",
       "    </tr>\n",
       "  </thead>\n",
       "  <tbody>\n",
       "    <tr>\n",
       "      <th>0</th>\n",
       "      <td>Voted</td>\n",
       "      <td>2792</td>\n",
       "      <td>3591</td>\n",
       "    </tr>\n",
       "    <tr>\n",
       "      <th>1</th>\n",
       "      <td>Not Voted</td>\n",
       "      <td>1486</td>\n",
       "      <td>2131</td>\n",
       "    </tr>\n",
       "  </tbody>\n",
       "</table>\n",
       "</div>"
      ],
      "text/plain": [
       "      Status   Men  Women\n",
       "0      Voted  2792   3591\n",
       "1  Not Voted  1486   2131"
      ]
     },
     "execution_count": 24,
     "metadata": {},
     "output_type": "execute_result"
    }
   ],
   "source": [
    "data = {\n",
    "    'Status' : ['Voted', 'Not Voted'],\n",
    "    'Men' : [2792, 1486],\n",
    "    'Women' : [3591, 2131]\n",
    "}\n",
    "df = pd.DataFrame(data)\n",
    "df"
   ]
  },
  {
   "cell_type": "markdown",
   "metadata": {},
   "source": [
    "###### Hypothesis\n",
    "H0 : Sex and voting are independent.  \n",
    "H1 : Sex and voting are dependent."
   ]
  },
  {
   "cell_type": "code",
   "execution_count": 25,
   "metadata": {},
   "outputs": [
    {
     "data": {
      "text/html": [
       "<div>\n",
       "<style scoped>\n",
       "    .dataframe tbody tr th:only-of-type {\n",
       "        vertical-align: middle;\n",
       "    }\n",
       "\n",
       "    .dataframe tbody tr th {\n",
       "        vertical-align: top;\n",
       "    }\n",
       "\n",
       "    .dataframe thead th {\n",
       "        text-align: right;\n",
       "    }\n",
       "</style>\n",
       "<table border=\"1\" class=\"dataframe\">\n",
       "  <thead>\n",
       "    <tr style=\"text-align: right;\">\n",
       "      <th></th>\n",
       "      <th>Status</th>\n",
       "      <th>Men</th>\n",
       "      <th>Women</th>\n",
       "    </tr>\n",
       "  </thead>\n",
       "  <tbody>\n",
       "    <tr>\n",
       "      <th>0</th>\n",
       "      <td>Voted</td>\n",
       "      <td>2792</td>\n",
       "      <td>3591</td>\n",
       "    </tr>\n",
       "    <tr>\n",
       "      <th>1</th>\n",
       "      <td>Not Voted</td>\n",
       "      <td>1486</td>\n",
       "      <td>2131</td>\n",
       "    </tr>\n",
       "    <tr>\n",
       "      <th>2</th>\n",
       "      <td>Totals</td>\n",
       "      <td>4278</td>\n",
       "      <td>5722</td>\n",
       "    </tr>\n",
       "  </tbody>\n",
       "</table>\n",
       "</div>"
      ],
      "text/plain": [
       "      Status   Men  Women\n",
       "0      Voted  2792   3591\n",
       "1  Not Voted  1486   2131\n",
       "2     Totals  4278   5722"
      ]
     },
     "execution_count": 25,
     "metadata": {},
     "output_type": "execute_result"
    }
   ],
   "source": [
    "df.loc[len(df.index)] = ['Totals', df['Men'].sum(), df['Women'].sum()]\n",
    "df"
   ]
  },
  {
   "cell_type": "code",
   "execution_count": 26,
   "metadata": {},
   "outputs": [
    {
     "data": {
      "text/html": [
       "<div>\n",
       "<style scoped>\n",
       "    .dataframe tbody tr th:only-of-type {\n",
       "        vertical-align: middle;\n",
       "    }\n",
       "\n",
       "    .dataframe tbody tr th {\n",
       "        vertical-align: top;\n",
       "    }\n",
       "\n",
       "    .dataframe thead th {\n",
       "        text-align: right;\n",
       "    }\n",
       "</style>\n",
       "<table border=\"1\" class=\"dataframe\">\n",
       "  <thead>\n",
       "    <tr style=\"text-align: right;\">\n",
       "      <th></th>\n",
       "      <th>Status</th>\n",
       "      <th>Men</th>\n",
       "      <th>Women</th>\n",
       "      <th>Totals</th>\n",
       "    </tr>\n",
       "  </thead>\n",
       "  <tbody>\n",
       "    <tr>\n",
       "      <th>0</th>\n",
       "      <td>Voted</td>\n",
       "      <td>2792</td>\n",
       "      <td>3591</td>\n",
       "      <td>6383</td>\n",
       "    </tr>\n",
       "    <tr>\n",
       "      <th>1</th>\n",
       "      <td>Not Voted</td>\n",
       "      <td>1486</td>\n",
       "      <td>2131</td>\n",
       "      <td>3617</td>\n",
       "    </tr>\n",
       "    <tr>\n",
       "      <th>2</th>\n",
       "      <td>Totals</td>\n",
       "      <td>4278</td>\n",
       "      <td>5722</td>\n",
       "      <td>10000</td>\n",
       "    </tr>\n",
       "  </tbody>\n",
       "</table>\n",
       "</div>"
      ],
      "text/plain": [
       "      Status   Men  Women  Totals\n",
       "0      Voted  2792   3591    6383\n",
       "1  Not Voted  1486   2131    3617\n",
       "2     Totals  4278   5722   10000"
      ]
     },
     "execution_count": 26,
     "metadata": {},
     "output_type": "execute_result"
    }
   ],
   "source": [
    "df['Totals'] = df['Men'] + df['Women']\n",
    "df"
   ]
  },
  {
   "cell_type": "code",
   "execution_count": 27,
   "metadata": {},
   "outputs": [
    {
     "data": {
      "text/plain": [
       "[[2792, 1486], [3591, 2131]]"
      ]
     },
     "execution_count": 27,
     "metadata": {},
     "output_type": "execute_result"
    }
   ],
   "source": [
    "test = [list(df.Men[:-1]), list(df.Women[:-1])]\n",
    "test"
   ]
  },
  {
   "cell_type": "code",
   "execution_count": 28,
   "metadata": {},
   "outputs": [
    {
     "name": "stdout",
     "output_type": "stream",
     "text": [
      "The calculated chi square value is 6.552337973968181.\n",
      "The expected chi square value should be less than 3.841458820694124 in order to accept the null hypothesis.\n"
     ]
    }
   ],
   "source": [
    "chi_calculated = scipy.stats.chi2_contingency(test)[0]\n",
    "Dof = scipy.stats.chi2_contingency(test)[2]\n",
    "\n",
    "# Suppose the level of significance is 5%.\n",
    "chi_expected = scipy.stats.chi2.ppf(1-0.05, df = Dof)\n",
    "\n",
    "print(f\"The calculated chi square value is {chi_calculated}.\")\n",
    "print(f\"The expected chi square value should be less than {chi_expected} in order to accept the null hypothesis.\")"
   ]
  },
  {
   "cell_type": "markdown",
   "metadata": {},
   "source": [
    "###### Conclusion\n",
    "Since calculated chi-calculated (i.e 6.55233) is more than the chi-critical (i.e 3.8414).  \n",
    "Hence the null hypothesis is rejected.  \n",
    "There is enough evidence at 5% level of significance in order to prove that 'sex' and 'voting' are dependent on each other."
   ]
  },
  {
   "cell_type": "markdown",
   "metadata": {},
   "source": [
    "# Problem 19:"
   ]
  },
  {
   "cell_type": "markdown",
   "metadata": {},
   "source": [
    "A sample of 100 voters are asked which of four candidates they would vote for in an\n",
    "election. The number supporting each candidate is given below:  \n",
    "Do the data suggest that all candidates are equally popular? [Chi-Square = 14.96,\n",
    "with 3 df, 𝑝 = 0.05]."
   ]
  },
  {
   "cell_type": "code",
   "execution_count": 29,
   "metadata": {},
   "outputs": [
    {
     "data": {
      "text/html": [
       "<div>\n",
       "<style scoped>\n",
       "    .dataframe tbody tr th:only-of-type {\n",
       "        vertical-align: middle;\n",
       "    }\n",
       "\n",
       "    .dataframe tbody tr th {\n",
       "        vertical-align: top;\n",
       "    }\n",
       "\n",
       "    .dataframe thead th {\n",
       "        text-align: right;\n",
       "    }\n",
       "</style>\n",
       "<table border=\"1\" class=\"dataframe\">\n",
       "  <thead>\n",
       "    <tr style=\"text-align: right;\">\n",
       "      <th></th>\n",
       "      <th>Candidate</th>\n",
       "      <th>Vote_freq(O)</th>\n",
       "    </tr>\n",
       "  </thead>\n",
       "  <tbody>\n",
       "    <tr>\n",
       "      <th>0</th>\n",
       "      <td>Higgins</td>\n",
       "      <td>41</td>\n",
       "    </tr>\n",
       "    <tr>\n",
       "      <th>1</th>\n",
       "      <td>Reardon</td>\n",
       "      <td>19</td>\n",
       "    </tr>\n",
       "    <tr>\n",
       "      <th>2</th>\n",
       "      <td>White</td>\n",
       "      <td>24</td>\n",
       "    </tr>\n",
       "    <tr>\n",
       "      <th>3</th>\n",
       "      <td>Chartton</td>\n",
       "      <td>16</td>\n",
       "    </tr>\n",
       "  </tbody>\n",
       "</table>\n",
       "</div>"
      ],
      "text/plain": [
       "  Candidate  Vote_freq(O)\n",
       "0   Higgins            41\n",
       "1   Reardon            19\n",
       "2     White            24\n",
       "3  Chartton            16"
      ]
     },
     "execution_count": 29,
     "metadata": {},
     "output_type": "execute_result"
    }
   ],
   "source": [
    "data = {\n",
    "    'Candidate' : ['Higgins', 'Reardon', 'White', 'Chartton'],\n",
    "    'Vote_freq(O)' : [41, 19, 24, 16]\n",
    "}\n",
    "df = pd.DataFrame(data)\n",
    "df"
   ]
  },
  {
   "cell_type": "markdown",
   "metadata": {},
   "source": [
    "##### Hypothesis\n",
    "H0 : All the candidates are equally popular.  \n",
    "H1 : All the candidates are not equally popular."
   ]
  },
  {
   "cell_type": "code",
   "execution_count": 30,
   "metadata": {},
   "outputs": [
    {
     "data": {
      "text/html": [
       "<div>\n",
       "<style scoped>\n",
       "    .dataframe tbody tr th:only-of-type {\n",
       "        vertical-align: middle;\n",
       "    }\n",
       "\n",
       "    .dataframe tbody tr th {\n",
       "        vertical-align: top;\n",
       "    }\n",
       "\n",
       "    .dataframe thead th {\n",
       "        text-align: right;\n",
       "    }\n",
       "</style>\n",
       "<table border=\"1\" class=\"dataframe\">\n",
       "  <thead>\n",
       "    <tr style=\"text-align: right;\">\n",
       "      <th></th>\n",
       "      <th>Candidate</th>\n",
       "      <th>Vote_freq(O)</th>\n",
       "      <th>Expected_votes(E)</th>\n",
       "    </tr>\n",
       "  </thead>\n",
       "  <tbody>\n",
       "    <tr>\n",
       "      <th>0</th>\n",
       "      <td>Higgins</td>\n",
       "      <td>41</td>\n",
       "      <td>25</td>\n",
       "    </tr>\n",
       "    <tr>\n",
       "      <th>1</th>\n",
       "      <td>Reardon</td>\n",
       "      <td>19</td>\n",
       "      <td>25</td>\n",
       "    </tr>\n",
       "    <tr>\n",
       "      <th>2</th>\n",
       "      <td>White</td>\n",
       "      <td>24</td>\n",
       "      <td>25</td>\n",
       "    </tr>\n",
       "    <tr>\n",
       "      <th>3</th>\n",
       "      <td>Chartton</td>\n",
       "      <td>16</td>\n",
       "      <td>25</td>\n",
       "    </tr>\n",
       "  </tbody>\n",
       "</table>\n",
       "</div>"
      ],
      "text/plain": [
       "  Candidate  Vote_freq(O)  Expected_votes(E)\n",
       "0   Higgins            41                 25\n",
       "1   Reardon            19                 25\n",
       "2     White            24                 25\n",
       "3  Chartton            16                 25"
      ]
     },
     "execution_count": 30,
     "metadata": {},
     "output_type": "execute_result"
    }
   ],
   "source": [
    "# Since the number of votera are equally popular in a given population.\n",
    "df['Expected_votes(E)'] = 100//4\n",
    "df"
   ]
  },
  {
   "cell_type": "code",
   "execution_count": 31,
   "metadata": {},
   "outputs": [
    {
     "data": {
      "text/html": [
       "<div>\n",
       "<style scoped>\n",
       "    .dataframe tbody tr th:only-of-type {\n",
       "        vertical-align: middle;\n",
       "    }\n",
       "\n",
       "    .dataframe tbody tr th {\n",
       "        vertical-align: top;\n",
       "    }\n",
       "\n",
       "    .dataframe thead th {\n",
       "        text-align: right;\n",
       "    }\n",
       "</style>\n",
       "<table border=\"1\" class=\"dataframe\">\n",
       "  <thead>\n",
       "    <tr style=\"text-align: right;\">\n",
       "      <th></th>\n",
       "      <th>Candidate</th>\n",
       "      <th>Vote_freq(O)</th>\n",
       "      <th>Expected_votes(E)</th>\n",
       "      <th>(E-O)^2</th>\n",
       "    </tr>\n",
       "  </thead>\n",
       "  <tbody>\n",
       "    <tr>\n",
       "      <th>0</th>\n",
       "      <td>Higgins</td>\n",
       "      <td>41</td>\n",
       "      <td>25</td>\n",
       "      <td>256</td>\n",
       "    </tr>\n",
       "    <tr>\n",
       "      <th>1</th>\n",
       "      <td>Reardon</td>\n",
       "      <td>19</td>\n",
       "      <td>25</td>\n",
       "      <td>36</td>\n",
       "    </tr>\n",
       "    <tr>\n",
       "      <th>2</th>\n",
       "      <td>White</td>\n",
       "      <td>24</td>\n",
       "      <td>25</td>\n",
       "      <td>1</td>\n",
       "    </tr>\n",
       "    <tr>\n",
       "      <th>3</th>\n",
       "      <td>Chartton</td>\n",
       "      <td>16</td>\n",
       "      <td>25</td>\n",
       "      <td>81</td>\n",
       "    </tr>\n",
       "  </tbody>\n",
       "</table>\n",
       "</div>"
      ],
      "text/plain": [
       "  Candidate  Vote_freq(O)  Expected_votes(E)  (E-O)^2\n",
       "0   Higgins            41                 25      256\n",
       "1   Reardon            19                 25       36\n",
       "2     White            24                 25        1\n",
       "3  Chartton            16                 25       81"
      ]
     },
     "execution_count": 31,
     "metadata": {},
     "output_type": "execute_result"
    }
   ],
   "source": [
    "df['(E-O)^2'] = (df['Vote_freq(O)'] - df['Expected_votes(E)'])**2\n",
    "df"
   ]
  },
  {
   "cell_type": "code",
   "execution_count": 32,
   "metadata": {},
   "outputs": [
    {
     "data": {
      "text/html": [
       "<div>\n",
       "<style scoped>\n",
       "    .dataframe tbody tr th:only-of-type {\n",
       "        vertical-align: middle;\n",
       "    }\n",
       "\n",
       "    .dataframe tbody tr th {\n",
       "        vertical-align: top;\n",
       "    }\n",
       "\n",
       "    .dataframe thead th {\n",
       "        text-align: right;\n",
       "    }\n",
       "</style>\n",
       "<table border=\"1\" class=\"dataframe\">\n",
       "  <thead>\n",
       "    <tr style=\"text-align: right;\">\n",
       "      <th></th>\n",
       "      <th>Candidate</th>\n",
       "      <th>Vote_freq(O)</th>\n",
       "      <th>Expected_votes(E)</th>\n",
       "      <th>(E-O)^2</th>\n",
       "      <th>(E-O)^2/E</th>\n",
       "    </tr>\n",
       "  </thead>\n",
       "  <tbody>\n",
       "    <tr>\n",
       "      <th>0</th>\n",
       "      <td>Higgins</td>\n",
       "      <td>41</td>\n",
       "      <td>25</td>\n",
       "      <td>256</td>\n",
       "      <td>10.24</td>\n",
       "    </tr>\n",
       "    <tr>\n",
       "      <th>1</th>\n",
       "      <td>Reardon</td>\n",
       "      <td>19</td>\n",
       "      <td>25</td>\n",
       "      <td>36</td>\n",
       "      <td>1.44</td>\n",
       "    </tr>\n",
       "    <tr>\n",
       "      <th>2</th>\n",
       "      <td>White</td>\n",
       "      <td>24</td>\n",
       "      <td>25</td>\n",
       "      <td>1</td>\n",
       "      <td>0.04</td>\n",
       "    </tr>\n",
       "    <tr>\n",
       "      <th>3</th>\n",
       "      <td>Chartton</td>\n",
       "      <td>16</td>\n",
       "      <td>25</td>\n",
       "      <td>81</td>\n",
       "      <td>3.24</td>\n",
       "    </tr>\n",
       "  </tbody>\n",
       "</table>\n",
       "</div>"
      ],
      "text/plain": [
       "  Candidate  Vote_freq(O)  Expected_votes(E)  (E-O)^2  (E-O)^2/E\n",
       "0   Higgins            41                 25      256      10.24\n",
       "1   Reardon            19                 25       36       1.44\n",
       "2     White            24                 25        1       0.04\n",
       "3  Chartton            16                 25       81       3.24"
      ]
     },
     "execution_count": 32,
     "metadata": {},
     "output_type": "execute_result"
    }
   ],
   "source": [
    "df['(E-O)^2/E'] = df['(E-O)^2']/df['Expected_votes(E)']\n",
    "df"
   ]
  },
  {
   "cell_type": "code",
   "execution_count": 33,
   "metadata": {},
   "outputs": [
    {
     "name": "stdout",
     "output_type": "stream",
     "text": [
      "The chi-square calculated value is 14.959999999999999\n",
      "The chi-square should have value less than 3.841458820694124 in order to acccept the null hypothesis.\n"
     ]
    }
   ],
   "source": [
    "chi_calculated = df['(E-O)^2/E'].sum()\n",
    "\n",
    "# Since number of candidates are 4 hence \n",
    "Dof = 4-1\n",
    "\n",
    "# Considering 5% level of significance \n",
    "p = 0.05\n",
    "chi_critical = scipy.stats.chi2.ppf(1-p, df=Dof)\n",
    "\n",
    "print(f\"The chi-square calculated value is {chi_calculated}\")\n",
    "print(f\"The chi-square should have value less than {chi_expected} in order to acccept the null hypothesis.\")"
   ]
  },
  {
   "cell_type": "markdown",
   "metadata": {},
   "source": [
    "##### Conclusion\n",
    "Since calculated chi-calculated (i.e 14.9599) is more than the chi-critical (i.e 3.8414).   \n",
    "Hence the null hypothesis is rejected.  \n",
    "There is enough evidence at 5% level of significance in order to prove that all the four candidates are NOT equally popular."
   ]
  },
  {
   "cell_type": "markdown",
   "metadata": {},
   "source": [
    "# Problem 20:"
   ]
  },
  {
   "cell_type": "markdown",
   "metadata": {},
   "source": [
    "Children of three ages are asked to indicate their preference for three photographs of\n",
    "adults. Do the data suggest that there is a significant relationship between age and\n",
    "photograph preference? What is wrong with this study? [Chi-Square = 29.6, with 4\n",
    "df: 𝑝 < 0.05]."
   ]
  },
  {
   "cell_type": "code",
   "execution_count": 34,
   "metadata": {},
   "outputs": [
    {
     "data": {
      "text/html": [
       "<div>\n",
       "<style scoped>\n",
       "    .dataframe tbody tr th:only-of-type {\n",
       "        vertical-align: middle;\n",
       "    }\n",
       "\n",
       "    .dataframe tbody tr th {\n",
       "        vertical-align: top;\n",
       "    }\n",
       "\n",
       "    .dataframe thead th {\n",
       "        text-align: right;\n",
       "    }\n",
       "</style>\n",
       "<table border=\"1\" class=\"dataframe\">\n",
       "  <thead>\n",
       "    <tr style=\"text-align: right;\">\n",
       "      <th></th>\n",
       "      <th>Age of child</th>\n",
       "      <th>A</th>\n",
       "      <th>B</th>\n",
       "      <th>C</th>\n",
       "    </tr>\n",
       "  </thead>\n",
       "  <tbody>\n",
       "    <tr>\n",
       "      <th>0</th>\n",
       "      <td>5-6 years</td>\n",
       "      <td>18</td>\n",
       "      <td>22</td>\n",
       "      <td>20</td>\n",
       "    </tr>\n",
       "    <tr>\n",
       "      <th>1</th>\n",
       "      <td>7-8 years</td>\n",
       "      <td>2</td>\n",
       "      <td>28</td>\n",
       "      <td>40</td>\n",
       "    </tr>\n",
       "    <tr>\n",
       "      <th>2</th>\n",
       "      <td>9-10 years</td>\n",
       "      <td>20</td>\n",
       "      <td>10</td>\n",
       "      <td>40</td>\n",
       "    </tr>\n",
       "  </tbody>\n",
       "</table>\n",
       "</div>"
      ],
      "text/plain": [
       "  Age of child   A   B   C\n",
       "0    5-6 years  18  22  20\n",
       "1    7-8 years   2  28  40\n",
       "2   9-10 years  20  10  40"
      ]
     },
     "execution_count": 34,
     "metadata": {},
     "output_type": "execute_result"
    }
   ],
   "source": [
    "data = {\n",
    "    'Age of child' : ['5-6 years', '7-8 years', '9-10 years'],\n",
    "    'A' : [18, 2 , 20],\n",
    "    'B' : [22, 28, 10],\n",
    "    'C' : [20, 40, 40]\n",
    "}\n",
    "df = pd.DataFrame(data)\n",
    "df"
   ]
  },
  {
   "cell_type": "markdown",
   "metadata": {},
   "source": [
    "##### Hypothesis\n",
    "H0 : Age and photograph are dependent of eachother.  \n",
    "H1 : Age and photgraph are independent of eachother."
   ]
  },
  {
   "cell_type": "code",
   "execution_count": 35,
   "metadata": {},
   "outputs": [
    {
     "data": {
      "text/html": [
       "<div>\n",
       "<style scoped>\n",
       "    .dataframe tbody tr th:only-of-type {\n",
       "        vertical-align: middle;\n",
       "    }\n",
       "\n",
       "    .dataframe tbody tr th {\n",
       "        vertical-align: top;\n",
       "    }\n",
       "\n",
       "    .dataframe thead th {\n",
       "        text-align: right;\n",
       "    }\n",
       "</style>\n",
       "<table border=\"1\" class=\"dataframe\">\n",
       "  <thead>\n",
       "    <tr style=\"text-align: right;\">\n",
       "      <th></th>\n",
       "      <th>Age of child</th>\n",
       "      <th>A</th>\n",
       "      <th>B</th>\n",
       "      <th>C</th>\n",
       "      <th>Totals</th>\n",
       "    </tr>\n",
       "  </thead>\n",
       "  <tbody>\n",
       "    <tr>\n",
       "      <th>0</th>\n",
       "      <td>5-6 years</td>\n",
       "      <td>18</td>\n",
       "      <td>22</td>\n",
       "      <td>20</td>\n",
       "      <td>60</td>\n",
       "    </tr>\n",
       "    <tr>\n",
       "      <th>1</th>\n",
       "      <td>7-8 years</td>\n",
       "      <td>2</td>\n",
       "      <td>28</td>\n",
       "      <td>40</td>\n",
       "      <td>70</td>\n",
       "    </tr>\n",
       "    <tr>\n",
       "      <th>2</th>\n",
       "      <td>9-10 years</td>\n",
       "      <td>20</td>\n",
       "      <td>10</td>\n",
       "      <td>40</td>\n",
       "      <td>70</td>\n",
       "    </tr>\n",
       "    <tr>\n",
       "      <th>3</th>\n",
       "      <td>Totals</td>\n",
       "      <td>40</td>\n",
       "      <td>60</td>\n",
       "      <td>100</td>\n",
       "      <td>200</td>\n",
       "    </tr>\n",
       "  </tbody>\n",
       "</table>\n",
       "</div>"
      ],
      "text/plain": [
       "  Age of child   A   B    C  Totals\n",
       "0    5-6 years  18  22   20      60\n",
       "1    7-8 years   2  28   40      70\n",
       "2   9-10 years  20  10   40      70\n",
       "3       Totals  40  60  100     200"
      ]
     },
     "execution_count": 35,
     "metadata": {},
     "output_type": "execute_result"
    }
   ],
   "source": [
    "df.loc[len(df.index)] = ['Totals', df['A'].sum(), df['B'].sum(), df['C'].sum()]\n",
    "df['Totals'] = df['A'] + df['B'] + df['C']\n",
    "df"
   ]
  },
  {
   "cell_type": "code",
   "execution_count": 36,
   "metadata": {},
   "outputs": [
    {
     "name": "stdout",
     "output_type": "stream",
     "text": [
      "[[18, 2, 20], [22, 28, 10], [20, 40, 40]]\n"
     ]
    }
   ],
   "source": [
    "test_data = [list(df.A[:-1]), list(df.B[:-1]), list(df.C[:-1])]\n",
    "print(test_data)"
   ]
  },
  {
   "cell_type": "code",
   "execution_count": 37,
   "metadata": {},
   "outputs": [
    {
     "name": "stdout",
     "output_type": "stream",
     "text": [
      "The calculated value of chi-square is 29.603174603174605\n",
      "The chi-square should have value less than 9.487729036781154 in order to accept null hypothesis.\n"
     ]
    }
   ],
   "source": [
    "chi_calculated = scipy.stats.chi2_contingency(test_data)[0]\n",
    "\n",
    "Dof = scipy.stats.chi2_contingency(test_data)[2]\n",
    "\n",
    "# Considering 5% level of significance\n",
    "p = 0.05\n",
    "chi_critical = scipy.stats.chi2.ppf(1-p, df = Dof)\n",
    "\n",
    "print(f\"The calculated value of chi-square is {chi_calculated}\")\n",
    "print(f\"The chi-square should have value less than {chi_critical} in order to accept null hypothesis.\")"
   ]
  },
  {
   "cell_type": "markdown",
   "metadata": {},
   "source": [
    "##### Conclusion\n",
    "Since calculated chi-calculated (i.e 29.6031) is more than the chi-critical (i.e 9.4877).    \n",
    "Hence the null hypothesis is rejected.    \n",
    "There is enough evidence at 5% level of significance in order to prove that 'age of child' and 'photograph selection' are independent."
   ]
  },
  {
   "cell_type": "markdown",
   "metadata": {},
   "source": [
    "# Problem 21:"
   ]
  },
  {
   "cell_type": "markdown",
   "metadata": {},
   "source": [
    "A study of conformity using the Asch paradigm involved two conditions: one where\n",
    "one confederate supported the true judgement and another where no confederate\n",
    "gave the correct response.  \n",
    "Is there a significant difference between the \"support\" and \"no support\" conditions in the\n",
    "frequency with which individuals are likely to conform? [Chi-Square = 19.87, with 1 df:\n",
    "𝑝 < 0.05]."
   ]
  },
  {
   "cell_type": "code",
   "execution_count": 38,
   "metadata": {},
   "outputs": [
    {
     "data": {
      "text/html": [
       "<div>\n",
       "<style scoped>\n",
       "    .dataframe tbody tr th:only-of-type {\n",
       "        vertical-align: middle;\n",
       "    }\n",
       "\n",
       "    .dataframe tbody tr th {\n",
       "        vertical-align: top;\n",
       "    }\n",
       "\n",
       "    .dataframe thead th {\n",
       "        text-align: right;\n",
       "    }\n",
       "</style>\n",
       "<table border=\"1\" class=\"dataframe\">\n",
       "  <thead>\n",
       "    <tr style=\"text-align: right;\">\n",
       "      <th></th>\n",
       "      <th>Confrom status</th>\n",
       "      <th>Support</th>\n",
       "      <th>No Support</th>\n",
       "    </tr>\n",
       "  </thead>\n",
       "  <tbody>\n",
       "    <tr>\n",
       "      <th>0</th>\n",
       "      <td>Conform</td>\n",
       "      <td>18</td>\n",
       "      <td>40</td>\n",
       "    </tr>\n",
       "    <tr>\n",
       "      <th>1</th>\n",
       "      <td>Not conform</td>\n",
       "      <td>32</td>\n",
       "      <td>10</td>\n",
       "    </tr>\n",
       "  </tbody>\n",
       "</table>\n",
       "</div>"
      ],
      "text/plain": [
       "  Confrom status  Support  No Support\n",
       "0        Conform       18          40\n",
       "1    Not conform       32          10"
      ]
     },
     "execution_count": 38,
     "metadata": {},
     "output_type": "execute_result"
    }
   ],
   "source": [
    "data = {\n",
    "    'Confrom status' : ['Conform', 'Not conform'],\n",
    "    'Support' : [18, 32],\n",
    "    'No Support' : [40, 10]\n",
    "}\n",
    "\n",
    "df = pd.DataFrame(data)\n",
    "df"
   ]
  },
  {
   "cell_type": "markdown",
   "metadata": {},
   "source": [
    "##### Hypothesis\n",
    "H0 : Significant difference between the \"support\" and \"no support\".  \n",
    "H1 : No significant difference between \"support\" and \"no support\"."
   ]
  },
  {
   "cell_type": "code",
   "execution_count": 39,
   "metadata": {},
   "outputs": [
    {
     "data": {
      "text/html": [
       "<div>\n",
       "<style scoped>\n",
       "    .dataframe tbody tr th:only-of-type {\n",
       "        vertical-align: middle;\n",
       "    }\n",
       "\n",
       "    .dataframe tbody tr th {\n",
       "        vertical-align: top;\n",
       "    }\n",
       "\n",
       "    .dataframe thead th {\n",
       "        text-align: right;\n",
       "    }\n",
       "</style>\n",
       "<table border=\"1\" class=\"dataframe\">\n",
       "  <thead>\n",
       "    <tr style=\"text-align: right;\">\n",
       "      <th></th>\n",
       "      <th>Confrom status</th>\n",
       "      <th>Support</th>\n",
       "      <th>No Support</th>\n",
       "      <th>Total</th>\n",
       "    </tr>\n",
       "  </thead>\n",
       "  <tbody>\n",
       "    <tr>\n",
       "      <th>0</th>\n",
       "      <td>Conform</td>\n",
       "      <td>18</td>\n",
       "      <td>40</td>\n",
       "      <td>58</td>\n",
       "    </tr>\n",
       "    <tr>\n",
       "      <th>1</th>\n",
       "      <td>Not conform</td>\n",
       "      <td>32</td>\n",
       "      <td>10</td>\n",
       "      <td>42</td>\n",
       "    </tr>\n",
       "    <tr>\n",
       "      <th>2</th>\n",
       "      <td>Total</td>\n",
       "      <td>50</td>\n",
       "      <td>50</td>\n",
       "      <td>100</td>\n",
       "    </tr>\n",
       "  </tbody>\n",
       "</table>\n",
       "</div>"
      ],
      "text/plain": [
       "  Confrom status  Support  No Support  Total\n",
       "0        Conform       18          40     58\n",
       "1    Not conform       32          10     42\n",
       "2          Total       50          50    100"
      ]
     },
     "execution_count": 39,
     "metadata": {},
     "output_type": "execute_result"
    }
   ],
   "source": [
    "df.loc[len(df.index)] = ['Total', df['Support'].sum(), df['No Support'].sum()]\n",
    "df['Total'] = df['Support'] + df['No Support']\n",
    "df"
   ]
  },
  {
   "cell_type": "code",
   "execution_count": 40,
   "metadata": {},
   "outputs": [
    {
     "name": "stdout",
     "output_type": "stream",
     "text": [
      "[[18, 32], [40, 10]]\n"
     ]
    }
   ],
   "source": [
    "test_data = [list(df['Support'][:-1]), list(df['No Support'][:-1])]\n",
    "print(test_data)"
   ]
  },
  {
   "cell_type": "code",
   "execution_count": 41,
   "metadata": {},
   "outputs": [
    {
     "name": "stdout",
     "output_type": "stream",
     "text": [
      "The calculated value of chi-square is 18.10344827586207\n",
      "The chi-squared value should be less than 3.841458820694124 in order to accept the null hypotheis.\n"
     ]
    }
   ],
   "source": [
    "chi_calculated = scipy.stats.chi2_contingency(test_data)[0]\n",
    "Dof = scipy.stats.chi2_contingency(test_data)[2]\n",
    "\n",
    "# Considering 5% level of significance\n",
    "p = 0.05\n",
    "chi_critical = scipy.stats.chi2.ppf(1-p, df=Dof)\n",
    "\n",
    "print(f\"The calculated value of chi-square is {chi_calculated}\")\n",
    "print(f\"The chi-squared value should be less than {chi_critical} in order to accept the null hypotheis.\")"
   ]
  },
  {
   "cell_type": "markdown",
   "metadata": {},
   "source": [
    "##### Conclusion\n",
    "Since calculated chi-calculated (i.e 18.1034) is more than the chi-critical (i.e 3.8414).    \n",
    "Hence the null hypothesis is rejected.    \n",
    "There is enough evidence at 5% level of significance in order to prove that there is no significant difference between \"support\" and \"no support\" conditions in the frequency with which individuals are likely to conform."
   ]
  },
  {
   "cell_type": "markdown",
   "metadata": {},
   "source": [
    "# Problem 22:"
   ]
  },
  {
   "cell_type": "markdown",
   "metadata": {},
   "source": [
    "We want to test whether short people differ with respect to their leadership qualities\n",
    "(Genghis Khan, Adolf Hitler and Napoleon were all stature-deprived, and how many midget\n",
    "MP's are there?) The following table shows the frequencies with which 43 short people and\n",
    "52 tall people were categorized as \"leaders\", \"followers\" or as \"unclassifiable\". Is there a\n",
    "relationship between height and leadership qualities?\n",
    "[Chi-Square = 10.71, with 2 df: 𝑝 < 0.01]."
   ]
  },
  {
   "cell_type": "code",
   "execution_count": 42,
   "metadata": {},
   "outputs": [
    {
     "data": {
      "text/html": [
       "<div>\n",
       "<style scoped>\n",
       "    .dataframe tbody tr th:only-of-type {\n",
       "        vertical-align: middle;\n",
       "    }\n",
       "\n",
       "    .dataframe tbody tr th {\n",
       "        vertical-align: top;\n",
       "    }\n",
       "\n",
       "    .dataframe thead th {\n",
       "        text-align: right;\n",
       "    }\n",
       "</style>\n",
       "<table border=\"1\" class=\"dataframe\">\n",
       "  <thead>\n",
       "    <tr style=\"text-align: right;\">\n",
       "      <th></th>\n",
       "      <th>Category</th>\n",
       "      <th>Short</th>\n",
       "      <th>Tall</th>\n",
       "    </tr>\n",
       "  </thead>\n",
       "  <tbody>\n",
       "    <tr>\n",
       "      <th>0</th>\n",
       "      <td>Leader</td>\n",
       "      <td>12</td>\n",
       "      <td>32</td>\n",
       "    </tr>\n",
       "    <tr>\n",
       "      <th>1</th>\n",
       "      <td>Follower</td>\n",
       "      <td>22</td>\n",
       "      <td>14</td>\n",
       "    </tr>\n",
       "    <tr>\n",
       "      <th>2</th>\n",
       "      <td>Unclassifiable</td>\n",
       "      <td>9</td>\n",
       "      <td>6</td>\n",
       "    </tr>\n",
       "  </tbody>\n",
       "</table>\n",
       "</div>"
      ],
      "text/plain": [
       "         Category  Short  Tall\n",
       "0          Leader     12    32\n",
       "1        Follower     22    14\n",
       "2  Unclassifiable      9     6"
      ]
     },
     "execution_count": 42,
     "metadata": {},
     "output_type": "execute_result"
    }
   ],
   "source": [
    "data = {\n",
    "    'Category' : ['Leader', 'Follower', 'Unclassifiable'],\n",
    "    'Short' : [12, 22, 9],\n",
    "    'Tall' : [32, 14, 6]\n",
    "}\n",
    "\n",
    "df = pd.DataFrame(data)\n",
    "df"
   ]
  },
  {
   "cell_type": "markdown",
   "metadata": {},
   "source": [
    "##### Hypothesis\n",
    "H0 : There is no relationship between 'Height' and 'Leadership qualities'.    \n",
    "H0 : There is relationship between 'Height' and 'Leadership qualities'."
   ]
  },
  {
   "cell_type": "code",
   "execution_count": 43,
   "metadata": {},
   "outputs": [
    {
     "data": {
      "text/html": [
       "<div>\n",
       "<style scoped>\n",
       "    .dataframe tbody tr th:only-of-type {\n",
       "        vertical-align: middle;\n",
       "    }\n",
       "\n",
       "    .dataframe tbody tr th {\n",
       "        vertical-align: top;\n",
       "    }\n",
       "\n",
       "    .dataframe thead th {\n",
       "        text-align: right;\n",
       "    }\n",
       "</style>\n",
       "<table border=\"1\" class=\"dataframe\">\n",
       "  <thead>\n",
       "    <tr style=\"text-align: right;\">\n",
       "      <th></th>\n",
       "      <th>Category</th>\n",
       "      <th>Short</th>\n",
       "      <th>Tall</th>\n",
       "      <th>Total</th>\n",
       "    </tr>\n",
       "  </thead>\n",
       "  <tbody>\n",
       "    <tr>\n",
       "      <th>0</th>\n",
       "      <td>Leader</td>\n",
       "      <td>12</td>\n",
       "      <td>32</td>\n",
       "      <td>44</td>\n",
       "    </tr>\n",
       "    <tr>\n",
       "      <th>1</th>\n",
       "      <td>Follower</td>\n",
       "      <td>22</td>\n",
       "      <td>14</td>\n",
       "      <td>36</td>\n",
       "    </tr>\n",
       "    <tr>\n",
       "      <th>2</th>\n",
       "      <td>Unclassifiable</td>\n",
       "      <td>9</td>\n",
       "      <td>6</td>\n",
       "      <td>15</td>\n",
       "    </tr>\n",
       "    <tr>\n",
       "      <th>3</th>\n",
       "      <td>Total</td>\n",
       "      <td>43</td>\n",
       "      <td>52</td>\n",
       "      <td>95</td>\n",
       "    </tr>\n",
       "  </tbody>\n",
       "</table>\n",
       "</div>"
      ],
      "text/plain": [
       "         Category  Short  Tall  Total\n",
       "0          Leader     12    32     44\n",
       "1        Follower     22    14     36\n",
       "2  Unclassifiable      9     6     15\n",
       "3           Total     43    52     95"
      ]
     },
     "execution_count": 43,
     "metadata": {},
     "output_type": "execute_result"
    }
   ],
   "source": [
    "df.loc[len(df.index)] = ['Total', df['Short'].sum(), df['Tall'].sum()]\n",
    "df['Total'] = df['Short'] + df['Tall']\n",
    "df"
   ]
  },
  {
   "cell_type": "code",
   "execution_count": 44,
   "metadata": {},
   "outputs": [
    {
     "data": {
      "text/plain": [
       "[[12, 22, 9], [32, 14, 6]]"
      ]
     },
     "execution_count": 44,
     "metadata": {},
     "output_type": "execute_result"
    }
   ],
   "source": [
    "test_data = [list(df['Short'][:-1]), list(df['Tall'][:-1])]\n",
    "test_data"
   ]
  },
  {
   "cell_type": "code",
   "execution_count": 45,
   "metadata": {},
   "outputs": [
    {
     "name": "stdout",
     "output_type": "stream",
     "text": [
      "The calculated value of chi-square is 10.712198008709638.\n",
      "The chi-squared vale should be less than 5.991464547107979 in order to accept null hypothesis.\n"
     ]
    }
   ],
   "source": [
    "chi_calculated = scipy.stats.chi2_contingency(test_data)[0]\n",
    "\n",
    "Dof = scipy.stats.chi2_contingency(test_data)[2]\n",
    "\n",
    "# Considering 5% level of significance\n",
    "p = 0.05\n",
    "chi_critical = scipy.stats.chi2.ppf(1-p, df=Dof)\n",
    "\n",
    "print(f\"The calculated value of chi-square is {chi_calculated}.\")\n",
    "print(f\"The chi-squared vale should be less than {chi_critical} in order to accept null hypothesis.\")"
   ]
  },
  {
   "cell_type": "markdown",
   "metadata": {},
   "source": [
    "##### Conclusion\n",
    "Since calculated chi-calculated (i.e 10.7121) is more than the chi-critical (i.e 5.9914).    \n",
    "Hence the null hypothesis is rejected.    \n",
    "There is enough evidence at 5% level of significance in order to prove that there is relationship between 'Height' and 'Leadership qualities'."
   ]
  },
  {
   "cell_type": "markdown",
   "metadata": {},
   "source": [
    "# Problem 23:"
   ]
  },
  {
   "cell_type": "markdown",
   "metadata": {},
   "source": [
    "Each respondent in the Current Population Survey of March 1993 was classified as\n",
    "employed, unemployed, or outside the labor force. The results for men in California age 35-\n",
    "44 can be cross-tabulated by marital status, as follows:  \n",
    "Men of different marital status seem to have different distributions of labor force status. Or is\n",
    "this just chance variation? (you may assume the table results from a simple random\n",
    "sample.)"
   ]
  },
  {
   "cell_type": "code",
   "execution_count": 46,
   "metadata": {},
   "outputs": [
    {
     "data": {
      "text/html": [
       "<div>\n",
       "<style scoped>\n",
       "    .dataframe tbody tr th:only-of-type {\n",
       "        vertical-align: middle;\n",
       "    }\n",
       "\n",
       "    .dataframe tbody tr th {\n",
       "        vertical-align: top;\n",
       "    }\n",
       "\n",
       "    .dataframe thead th {\n",
       "        text-align: right;\n",
       "    }\n",
       "</style>\n",
       "<table border=\"1\" class=\"dataframe\">\n",
       "  <thead>\n",
       "    <tr style=\"text-align: right;\">\n",
       "      <th></th>\n",
       "      <th>Employment_status</th>\n",
       "      <th>Married</th>\n",
       "      <th>Widowed, divorced or separated</th>\n",
       "      <th>Never married</th>\n",
       "    </tr>\n",
       "  </thead>\n",
       "  <tbody>\n",
       "    <tr>\n",
       "      <th>0</th>\n",
       "      <td>Employed</td>\n",
       "      <td>679</td>\n",
       "      <td>103</td>\n",
       "      <td>114</td>\n",
       "    </tr>\n",
       "    <tr>\n",
       "      <th>1</th>\n",
       "      <td>Unemployed</td>\n",
       "      <td>63</td>\n",
       "      <td>10</td>\n",
       "      <td>20</td>\n",
       "    </tr>\n",
       "    <tr>\n",
       "      <th>2</th>\n",
       "      <td>Not in labour force</td>\n",
       "      <td>42</td>\n",
       "      <td>18</td>\n",
       "      <td>25</td>\n",
       "    </tr>\n",
       "  </tbody>\n",
       "</table>\n",
       "</div>"
      ],
      "text/plain": [
       "     Employment_status  Married  Widowed, divorced or separated  Never married\n",
       "0             Employed      679                             103            114\n",
       "1           Unemployed       63                              10             20\n",
       "2  Not in labour force       42                              18             25"
      ]
     },
     "execution_count": 46,
     "metadata": {},
     "output_type": "execute_result"
    }
   ],
   "source": [
    "data = {\n",
    "    'Employment_status' : ['Employed', 'Unemployed', 'Not in labour force'],\n",
    "    'Married' : [679, 63, 42],\n",
    "    'Widowed, divorced or separated' : [103, 10, 18],\n",
    "    'Never married' : [114, 20, 25]\n",
    "}\n",
    "df = pd.DataFrame(data)\n",
    "df"
   ]
  },
  {
   "cell_type": "markdown",
   "metadata": {},
   "source": [
    "##### Hypothesis\n",
    "H0 : Men of different marital status and different distributions of labour force are independent.  \n",
    "H1 : Men of different marital status and different distributions of labour force are dependent."
   ]
  },
  {
   "cell_type": "code",
   "execution_count": 47,
   "metadata": {},
   "outputs": [
    {
     "data": {
      "text/html": [
       "<div>\n",
       "<style scoped>\n",
       "    .dataframe tbody tr th:only-of-type {\n",
       "        vertical-align: middle;\n",
       "    }\n",
       "\n",
       "    .dataframe tbody tr th {\n",
       "        vertical-align: top;\n",
       "    }\n",
       "\n",
       "    .dataframe thead th {\n",
       "        text-align: right;\n",
       "    }\n",
       "</style>\n",
       "<table border=\"1\" class=\"dataframe\">\n",
       "  <thead>\n",
       "    <tr style=\"text-align: right;\">\n",
       "      <th></th>\n",
       "      <th>Employment_status</th>\n",
       "      <th>Married</th>\n",
       "      <th>Widowed, divorced or separated</th>\n",
       "      <th>Never married</th>\n",
       "      <th>Total</th>\n",
       "    </tr>\n",
       "  </thead>\n",
       "  <tbody>\n",
       "    <tr>\n",
       "      <th>0</th>\n",
       "      <td>Employed</td>\n",
       "      <td>679</td>\n",
       "      <td>103</td>\n",
       "      <td>114</td>\n",
       "      <td>896</td>\n",
       "    </tr>\n",
       "    <tr>\n",
       "      <th>1</th>\n",
       "      <td>Unemployed</td>\n",
       "      <td>63</td>\n",
       "      <td>10</td>\n",
       "      <td>20</td>\n",
       "      <td>93</td>\n",
       "    </tr>\n",
       "    <tr>\n",
       "      <th>2</th>\n",
       "      <td>Not in labour force</td>\n",
       "      <td>42</td>\n",
       "      <td>18</td>\n",
       "      <td>25</td>\n",
       "      <td>85</td>\n",
       "    </tr>\n",
       "    <tr>\n",
       "      <th>3</th>\n",
       "      <td>Total</td>\n",
       "      <td>784</td>\n",
       "      <td>131</td>\n",
       "      <td>159</td>\n",
       "      <td>1074</td>\n",
       "    </tr>\n",
       "  </tbody>\n",
       "</table>\n",
       "</div>"
      ],
      "text/plain": [
       "     Employment_status  Married  Widowed, divorced or separated  \\\n",
       "0             Employed      679                             103   \n",
       "1           Unemployed       63                              10   \n",
       "2  Not in labour force       42                              18   \n",
       "3                Total      784                             131   \n",
       "\n",
       "   Never married  Total  \n",
       "0            114    896  \n",
       "1             20     93  \n",
       "2             25     85  \n",
       "3            159   1074  "
      ]
     },
     "execution_count": 47,
     "metadata": {},
     "output_type": "execute_result"
    }
   ],
   "source": [
    "df.loc[len(df.index)] = ['Total', df['Married'].sum(), df['Widowed, divorced or separated'].sum(), df['Never married'].sum()]\n",
    "df['Total'] = df['Married'] + df['Widowed, divorced or separated'] + df['Never married']\n",
    "df"
   ]
  },
  {
   "cell_type": "code",
   "execution_count": 48,
   "metadata": {},
   "outputs": [
    {
     "data": {
      "text/plain": [
       "[[679, 63, 42], [103, 10, 18], [114, 20, 25]]"
      ]
     },
     "execution_count": 48,
     "metadata": {},
     "output_type": "execute_result"
    }
   ],
   "source": [
    "data = [list(df['Married'][:-1]), list(df['Widowed, divorced or separated'][:-1]), list(df['Never married'][:-1])]\n",
    "data"
   ]
  },
  {
   "cell_type": "code",
   "execution_count": 49,
   "metadata": {},
   "outputs": [
    {
     "name": "stdout",
     "output_type": "stream",
     "text": [
      "The calculated value of chi-square is 31.61310319407798.\n",
      "The chi-squared value should be less than 9.487729036781154 in order to accept null hypothesis.\n"
     ]
    }
   ],
   "source": [
    "chi_calculated = scipy.stats.chi2_contingency(data)[0]\n",
    "Dof = scipy.stats.chi2_contingency(data)[2]\n",
    "\n",
    "# Considering 5% level of significance\n",
    "p = 0.05\n",
    "chi_critical = scipy.stats.chi2.ppf(1-p, df=Dof)\n",
    "\n",
    "print(f\"The calculated value of chi-square is {chi_calculated}.\")\n",
    "print(f\"The chi-squared value should be less than {chi_critical} in order to accept null hypothesis.\")"
   ]
  },
  {
   "cell_type": "markdown",
   "metadata": {},
   "source": [
    "##### Conclusion\n",
    "Since calculated chi-calculated (i.e 31.6131) is more than the chi-critical (i.e 9.4877).  \n",
    "Hence the null hypothesis is rejected.  \n",
    "There is enough evidence at 5% level of significance in order to prove that men of different marital status and different distribution of labour force are dependent."
   ]
  },
  {
   "cell_type": "code",
   "execution_count": null,
   "metadata": {},
   "outputs": [],
   "source": []
  }
 ],
 "metadata": {
  "kernelspec": {
   "display_name": "Python 3",
   "language": "python",
   "name": "python3"
  },
  "language_info": {
   "codemirror_mode": {
    "name": "ipython",
    "version": 3
   },
   "file_extension": ".py",
   "mimetype": "text/x-python",
   "name": "python",
   "nbconvert_exporter": "python",
   "pygments_lexer": "ipython3",
   "version": "3.8.5"
  }
 },
 "nbformat": 4,
 "nbformat_minor": 4
}
