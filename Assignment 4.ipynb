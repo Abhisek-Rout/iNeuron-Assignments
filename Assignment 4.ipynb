{
 "cells": [
  {
   "cell_type": "markdown",
   "metadata": {},
   "source": [
    "# Question 1.1 sol:"
   ]
  },
  {
   "cell_type": "code",
   "execution_count": 12,
   "metadata": {},
   "outputs": [
    {
     "name": "stdout",
     "output_type": "stream",
     "text": [
      "Enter the first side of triangle: 3\n",
      "Enter the second side of triangle: 4\n",
      "Enter the third side of triangle: 5\n",
      "Area fo the triangle is 6.0 centimeter square.\n"
     ]
    }
   ],
   "source": [
    "import math\n",
    "\n",
    "class Dimension:\n",
    "    \n",
    "    #Constructor of  Dimension class\n",
    "    def __init__(self):\n",
    "        self.sides_of_triangle()\n",
    "    \n",
    "    # Taking the dimensions from the user\n",
    "    def sides_of_triangle(self):\n",
    "        self.s1 = float(input(\"Enter the first side of triangle: \"))\n",
    "        self.s2 = float(input(\"Enter the second side of triangle: \"))\n",
    "        self.s3 = float(input(\"Enter the third side of triangle: \"))\n",
    "        \n",
    "class Area(Dimension):\n",
    "    \n",
    "    def __init__(self):\n",
    "        super().__init__()\n",
    "        \n",
    "    def area_calc(self,a,b,c):\n",
    "        s = (a+b+c)*0.5\n",
    "        \n",
    "        area = math.sqrt(s*(s-a)*(s-b)*(s-c)) \n",
    "        \n",
    "        return area\n",
    "\n",
    "sides = Area()\n",
    "area = sides.area_calc(sides.s1, sides.s2, sides.s3)\n",
    "print(f\"Area fo the triangle is {area} centimeter square.\")"
   ]
  },
  {
   "cell_type": "markdown",
   "metadata": {},
   "source": [
    "# Question 1.2 sol:"
   ]
  },
  {
   "cell_type": "code",
   "execution_count": 14,
   "metadata": {},
   "outputs": [
    {
     "name": "stdout",
     "output_type": "stream",
     "text": [
      "['butter', 'cherry', 'butterfly']\n"
     ]
    }
   ],
   "source": [
    "def filter_long_words(seq,num):\n",
    "    new_list = []\n",
    "    for word in seq:\n",
    "        if len(word) > num:\n",
    "            new_list.append(word)\n",
    "    print(new_list)\n",
    "\n",
    "filter_long_words(['cake','butter','cherry','ant','butterfly','soup'],4)"
   ]
  },
  {
   "cell_type": "markdown",
   "metadata": {},
   "source": [
    "# Question 2.1 sol:"
   ]
  },
  {
   "cell_type": "code",
   "execution_count": 15,
   "metadata": {},
   "outputs": [
    {
     "name": "stdout",
     "output_type": "stream",
     "text": [
      "[3, 7, 4, 8, 7]\n"
     ]
    }
   ],
   "source": [
    "def mymap(sequence):\n",
    "    new_list1 = []\n",
    "    for word in sequence:\n",
    "        new_list1.append(len(word))\n",
    "    print(new_list1)\n",
    "    \n",
    "mymap(['cat','buffalo','goat','anaconda','giraffe'])"
   ]
  },
  {
   "cell_type": "markdown",
   "metadata": {},
   "source": [
    "# Question 2.2 sol:"
   ]
  },
  {
   "cell_type": "code",
   "execution_count": 28,
   "metadata": {},
   "outputs": [],
   "source": [
    "def isvowel(character):\n",
    "    new_list2 = ['a','A','e','E','i','I','o','O','u','U']\n",
    "    if character in new_list2:\n",
    "        return True\n",
    "    else:\n",
    "        return False"
   ]
  },
  {
   "cell_type": "code",
   "execution_count": 29,
   "metadata": {},
   "outputs": [
    {
     "data": {
      "text/plain": [
       "True"
      ]
     },
     "execution_count": 29,
     "metadata": {},
     "output_type": "execute_result"
    }
   ],
   "source": [
    "isvowel('e')"
   ]
  },
  {
   "cell_type": "code",
   "execution_count": 30,
   "metadata": {},
   "outputs": [
    {
     "data": {
      "text/plain": [
       "True"
      ]
     },
     "execution_count": 30,
     "metadata": {},
     "output_type": "execute_result"
    }
   ],
   "source": [
    "isvowel('U')"
   ]
  },
  {
   "cell_type": "code",
   "execution_count": 31,
   "metadata": {},
   "outputs": [
    {
     "data": {
      "text/plain": [
       "False"
      ]
     },
     "execution_count": 31,
     "metadata": {},
     "output_type": "execute_result"
    }
   ],
   "source": [
    "isvowel('L')"
   ]
  },
  {
   "cell_type": "code",
   "execution_count": 32,
   "metadata": {},
   "outputs": [
    {
     "data": {
      "text/plain": [
       "False"
      ]
     },
     "execution_count": 32,
     "metadata": {},
     "output_type": "execute_result"
    }
   ],
   "source": [
    "isvowel('m')"
   ]
  }
 ],
 "metadata": {
  "kernelspec": {
   "display_name": "Python 3",
   "language": "python",
   "name": "python3"
  },
  "language_info": {
   "codemirror_mode": {
    "name": "ipython",
    "version": 3
   },
   "file_extension": ".py",
   "mimetype": "text/x-python",
   "name": "python",
   "nbconvert_exporter": "python",
   "pygments_lexer": "ipython3",
   "version": "3.8.5"
  }
 },
 "nbformat": 4,
 "nbformat_minor": 4
}
